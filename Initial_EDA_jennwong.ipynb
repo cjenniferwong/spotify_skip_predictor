{
 "cells": [
  {
   "cell_type": "markdown",
   "metadata": {},
   "source": [
    "# This is Jennifer's first pass at the data to do EDA"
   ]
  },
  {
   "cell_type": "code",
   "execution_count": 2,
   "metadata": {
    "ExecuteTime": {
     "end_time": "2018-11-21T06:08:47.631547Z",
     "start_time": "2018-11-21T06:08:46.795197Z"
    }
   },
   "outputs": [
    {
     "name": "stderr",
     "output_type": "stream",
     "text": [
      "/Users/jennwon/anaconda3/lib/python3.6/importlib/_bootstrap.py:219: RuntimeWarning: numpy.dtype size changed, may indicate binary incompatibility. Expected 96, got 88\n",
      "  return f(*args, **kwds)\n",
      "/Users/jennwon/anaconda3/lib/python3.6/importlib/_bootstrap.py:219: RuntimeWarning: numpy.dtype size changed, may indicate binary incompatibility. Expected 96, got 88\n",
      "  return f(*args, **kwds)\n"
     ]
    }
   ],
   "source": [
    "from glob import glob\n",
    "import pandas as pd\n",
    "\n",
    "import matplotlib.pyplot as plt\n",
    "%matplotlib inline\n",
    "plt.style.use('seaborn')"
   ]
  },
  {
   "cell_type": "code",
   "execution_count": 3,
   "metadata": {
    "ExecuteTime": {
     "end_time": "2018-11-21T06:08:48.223187Z",
     "start_time": "2018-11-21T06:08:47.634311Z"
    }
   },
   "outputs": [
    {
     "data": {
      "text/html": [
       "<div>\n",
       "<style scoped>\n",
       "    .dataframe tbody tr th:only-of-type {\n",
       "        vertical-align: middle;\n",
       "    }\n",
       "\n",
       "    .dataframe tbody tr th {\n",
       "        vertical-align: top;\n",
       "    }\n",
       "\n",
       "    .dataframe thead th {\n",
       "        text-align: right;\n",
       "    }\n",
       "</style>\n",
       "<table border=\"1\" class=\"dataframe\">\n",
       "  <thead>\n",
       "    <tr style=\"text-align: right;\">\n",
       "      <th></th>\n",
       "      <th>track_id</th>\n",
       "      <th>duration</th>\n",
       "      <th>release_year</th>\n",
       "      <th>us_popularity_estimate</th>\n",
       "      <th>acousticness</th>\n",
       "      <th>beat_strength</th>\n",
       "      <th>bounciness</th>\n",
       "      <th>danceability</th>\n",
       "      <th>dyn_range_mean</th>\n",
       "      <th>energy</th>\n",
       "      <th>...</th>\n",
       "      <th>time_signature</th>\n",
       "      <th>valence</th>\n",
       "      <th>acoustic_vector_0</th>\n",
       "      <th>acoustic_vector_1</th>\n",
       "      <th>acoustic_vector_2</th>\n",
       "      <th>acoustic_vector_3</th>\n",
       "      <th>acoustic_vector_4</th>\n",
       "      <th>acoustic_vector_5</th>\n",
       "      <th>acoustic_vector_6</th>\n",
       "      <th>acoustic_vector_7</th>\n",
       "    </tr>\n",
       "  </thead>\n",
       "  <tbody>\n",
       "    <tr>\n",
       "      <th>0</th>\n",
       "      <td>t_a540e552-16d4-42f8-a185-232bd650ea7d</td>\n",
       "      <td>109.706673</td>\n",
       "      <td>1950</td>\n",
       "      <td>99.975414</td>\n",
       "      <td>0.458040</td>\n",
       "      <td>0.519497</td>\n",
       "      <td>0.504949</td>\n",
       "      <td>0.399767</td>\n",
       "      <td>7.511880</td>\n",
       "      <td>0.817709</td>\n",
       "      <td>...</td>\n",
       "      <td>4</td>\n",
       "      <td>0.935512</td>\n",
       "      <td>-0.033284</td>\n",
       "      <td>-0.411896</td>\n",
       "      <td>-0.028580</td>\n",
       "      <td>0.349438</td>\n",
       "      <td>0.832467</td>\n",
       "      <td>-0.213871</td>\n",
       "      <td>-0.299464</td>\n",
       "      <td>-0.675907</td>\n",
       "    </tr>\n",
       "    <tr>\n",
       "      <th>1</th>\n",
       "      <td>t_67965da0-132b-4b1e-8a69-0ef99b32287c</td>\n",
       "      <td>187.693329</td>\n",
       "      <td>1950</td>\n",
       "      <td>99.969430</td>\n",
       "      <td>0.916272</td>\n",
       "      <td>0.419223</td>\n",
       "      <td>0.545530</td>\n",
       "      <td>0.491235</td>\n",
       "      <td>9.098376</td>\n",
       "      <td>0.154258</td>\n",
       "      <td>...</td>\n",
       "      <td>3</td>\n",
       "      <td>0.359675</td>\n",
       "      <td>0.145703</td>\n",
       "      <td>-0.850372</td>\n",
       "      <td>0.123860</td>\n",
       "      <td>0.746904</td>\n",
       "      <td>0.371803</td>\n",
       "      <td>-0.420558</td>\n",
       "      <td>-0.213120</td>\n",
       "      <td>-0.525795</td>\n",
       "    </tr>\n",
       "    <tr>\n",
       "      <th>2</th>\n",
       "      <td>t_0614ecd3-a7d5-40a1-816e-156d5872a467</td>\n",
       "      <td>160.839996</td>\n",
       "      <td>1951</td>\n",
       "      <td>99.602549</td>\n",
       "      <td>0.812884</td>\n",
       "      <td>0.425890</td>\n",
       "      <td>0.508280</td>\n",
       "      <td>0.491625</td>\n",
       "      <td>8.368670</td>\n",
       "      <td>0.358813</td>\n",
       "      <td>...</td>\n",
       "      <td>4</td>\n",
       "      <td>0.726769</td>\n",
       "      <td>0.021720</td>\n",
       "      <td>-0.743634</td>\n",
       "      <td>0.333247</td>\n",
       "      <td>0.568447</td>\n",
       "      <td>0.411094</td>\n",
       "      <td>-0.187749</td>\n",
       "      <td>-0.387599</td>\n",
       "      <td>-0.433496</td>\n",
       "    </tr>\n",
       "    <tr>\n",
       "      <th>3</th>\n",
       "      <td>t_070a63a0-744a-434e-9913-a97b02926a29</td>\n",
       "      <td>175.399994</td>\n",
       "      <td>1951</td>\n",
       "      <td>99.665018</td>\n",
       "      <td>0.396854</td>\n",
       "      <td>0.400934</td>\n",
       "      <td>0.359990</td>\n",
       "      <td>0.552227</td>\n",
       "      <td>5.967346</td>\n",
       "      <td>0.514585</td>\n",
       "      <td>...</td>\n",
       "      <td>4</td>\n",
       "      <td>0.859075</td>\n",
       "      <td>0.039143</td>\n",
       "      <td>-0.267555</td>\n",
       "      <td>-0.051825</td>\n",
       "      <td>0.106173</td>\n",
       "      <td>0.614825</td>\n",
       "      <td>-0.111419</td>\n",
       "      <td>-0.265953</td>\n",
       "      <td>-0.542753</td>\n",
       "    </tr>\n",
       "    <tr>\n",
       "      <th>4</th>\n",
       "      <td>t_d6990e17-9c31-4b01-8559-47d9ce476df1</td>\n",
       "      <td>369.600006</td>\n",
       "      <td>1951</td>\n",
       "      <td>99.991764</td>\n",
       "      <td>0.728831</td>\n",
       "      <td>0.371328</td>\n",
       "      <td>0.335115</td>\n",
       "      <td>0.483044</td>\n",
       "      <td>5.802681</td>\n",
       "      <td>0.721442</td>\n",
       "      <td>...</td>\n",
       "      <td>4</td>\n",
       "      <td>0.562343</td>\n",
       "      <td>0.131931</td>\n",
       "      <td>-0.292523</td>\n",
       "      <td>-0.174819</td>\n",
       "      <td>-0.034422</td>\n",
       "      <td>0.717229</td>\n",
       "      <td>-0.016239</td>\n",
       "      <td>-0.392694</td>\n",
       "      <td>-0.455496</td>\n",
       "    </tr>\n",
       "  </tbody>\n",
       "</table>\n",
       "<p>5 rows × 30 columns</p>\n",
       "</div>"
      ],
      "text/plain": [
       "                                 track_id    duration  release_year  \\\n",
       "0  t_a540e552-16d4-42f8-a185-232bd650ea7d  109.706673          1950   \n",
       "1  t_67965da0-132b-4b1e-8a69-0ef99b32287c  187.693329          1950   \n",
       "2  t_0614ecd3-a7d5-40a1-816e-156d5872a467  160.839996          1951   \n",
       "3  t_070a63a0-744a-434e-9913-a97b02926a29  175.399994          1951   \n",
       "4  t_d6990e17-9c31-4b01-8559-47d9ce476df1  369.600006          1951   \n",
       "\n",
       "   us_popularity_estimate  acousticness  beat_strength  bounciness  \\\n",
       "0               99.975414      0.458040       0.519497    0.504949   \n",
       "1               99.969430      0.916272       0.419223    0.545530   \n",
       "2               99.602549      0.812884       0.425890    0.508280   \n",
       "3               99.665018      0.396854       0.400934    0.359990   \n",
       "4               99.991764      0.728831       0.371328    0.335115   \n",
       "\n",
       "   danceability  dyn_range_mean    energy        ...          time_signature  \\\n",
       "0      0.399767        7.511880  0.817709        ...                       4   \n",
       "1      0.491235        9.098376  0.154258        ...                       3   \n",
       "2      0.491625        8.368670  0.358813        ...                       4   \n",
       "3      0.552227        5.967346  0.514585        ...                       4   \n",
       "4      0.483044        5.802681  0.721442        ...                       4   \n",
       "\n",
       "    valence  acoustic_vector_0  acoustic_vector_1  acoustic_vector_2  \\\n",
       "0  0.935512          -0.033284          -0.411896          -0.028580   \n",
       "1  0.359675           0.145703          -0.850372           0.123860   \n",
       "2  0.726769           0.021720          -0.743634           0.333247   \n",
       "3  0.859075           0.039143          -0.267555          -0.051825   \n",
       "4  0.562343           0.131931          -0.292523          -0.174819   \n",
       "\n",
       "   acoustic_vector_3 acoustic_vector_4  acoustic_vector_5  acoustic_vector_6  \\\n",
       "0           0.349438          0.832467          -0.213871          -0.299464   \n",
       "1           0.746904          0.371803          -0.420558          -0.213120   \n",
       "2           0.568447          0.411094          -0.187749          -0.387599   \n",
       "3           0.106173          0.614825          -0.111419          -0.265953   \n",
       "4          -0.034422          0.717229          -0.016239          -0.392694   \n",
       "\n",
       "   acoustic_vector_7  \n",
       "0          -0.675907  \n",
       "1          -0.525795  \n",
       "2          -0.433496  \n",
       "3          -0.542753  \n",
       "4          -0.455496  \n",
       "\n",
       "[5 rows x 30 columns]"
      ]
     },
     "execution_count": 3,
     "metadata": {},
     "output_type": "execute_result"
    }
   ],
   "source": [
    "file_path = ('data/track_features/tf_mini.csv')\n",
    "track_features = pd.read_csv(file_path)\n",
    "track_features.head()"
   ]
  },
  {
   "cell_type": "code",
   "execution_count": 4,
   "metadata": {
    "ExecuteTime": {
     "end_time": "2018-11-21T06:08:48.276887Z",
     "start_time": "2018-11-21T06:08:48.226043Z"
    },
    "scrolled": true
   },
   "outputs": [
    {
     "name": "stdout",
     "output_type": "stream",
     "text": [
      "<class 'pandas.core.frame.DataFrame'>\n",
      "RangeIndex: 50704 entries, 0 to 50703\n",
      "Data columns (total 30 columns):\n",
      "track_id                  50704 non-null object\n",
      "duration                  50704 non-null float64\n",
      "release_year              50704 non-null int64\n",
      "us_popularity_estimate    50704 non-null float64\n",
      "acousticness              50704 non-null float64\n",
      "beat_strength             50704 non-null float64\n",
      "bounciness                50704 non-null float64\n",
      "danceability              50704 non-null float64\n",
      "dyn_range_mean            50704 non-null float64\n",
      "energy                    50704 non-null float64\n",
      "flatness                  50704 non-null float64\n",
      "instrumentalness          50704 non-null float64\n",
      "key                       50704 non-null int64\n",
      "liveness                  50704 non-null float64\n",
      "loudness                  50704 non-null float64\n",
      "mechanism                 50704 non-null float64\n",
      "mode                      50704 non-null object\n",
      "organism                  50704 non-null float64\n",
      "speechiness               50704 non-null float64\n",
      "tempo                     50704 non-null float64\n",
      "time_signature            50704 non-null int64\n",
      "valence                   50704 non-null float64\n",
      "acoustic_vector_0         50704 non-null float64\n",
      "acoustic_vector_1         50704 non-null float64\n",
      "acoustic_vector_2         50704 non-null float64\n",
      "acoustic_vector_3         50704 non-null float64\n",
      "acoustic_vector_4         50704 non-null float64\n",
      "acoustic_vector_5         50704 non-null float64\n",
      "acoustic_vector_6         50704 non-null float64\n",
      "acoustic_vector_7         50704 non-null float64\n",
      "dtypes: float64(25), int64(3), object(2)\n",
      "memory usage: 11.6+ MB\n"
     ]
    }
   ],
   "source": [
    "track_features.info()"
   ]
  },
  {
   "cell_type": "code",
   "execution_count": 5,
   "metadata": {
    "ExecuteTime": {
     "end_time": "2018-11-21T06:08:48.805101Z",
     "start_time": "2018-11-21T06:08:48.280537Z"
    }
   },
   "outputs": [],
   "source": [
    "log_mini_path = 'data/training_set/log_mini.csv'\n",
    "log_mini = pd.read_csv(log_mini_path)\n",
    "# log_mini.head()"
   ]
  },
  {
   "cell_type": "code",
   "execution_count": 6,
   "metadata": {
    "ExecuteTime": {
     "end_time": "2018-11-21T06:08:48.905022Z",
     "start_time": "2018-11-21T06:08:48.807223Z"
    }
   },
   "outputs": [
    {
     "name": "stdout",
     "output_type": "stream",
     "text": [
      "<class 'pandas.core.frame.DataFrame'>\n",
      "RangeIndex: 167880 entries, 0 to 167879\n",
      "Data columns (total 21 columns):\n",
      "session_id                         167880 non-null object\n",
      "session_position                   167880 non-null int64\n",
      "session_length                     167880 non-null int64\n",
      "track_id_clean                     167880 non-null object\n",
      "skip_1                             167880 non-null bool\n",
      "skip_2                             167880 non-null bool\n",
      "skip_3                             167880 non-null bool\n",
      "not_skipped                        167880 non-null bool\n",
      "context_switch                     167880 non-null int64\n",
      "no_pause_before_play               167880 non-null int64\n",
      "short_pause_before_play            167880 non-null int64\n",
      "long_pause_before_play             167880 non-null int64\n",
      "hist_user_behavior_n_seekfwd       167880 non-null int64\n",
      "hist_user_behavior_n_seekback      167880 non-null int64\n",
      "hist_user_behavior_is_shuffle      167880 non-null bool\n",
      "hour_of_day                        167880 non-null int64\n",
      "date                               167880 non-null object\n",
      "premium                            167880 non-null bool\n",
      "context_type                       167880 non-null object\n",
      "hist_user_behavior_reason_start    167880 non-null object\n",
      "hist_user_behavior_reason_end      167880 non-null object\n",
      "dtypes: bool(6), int64(9), object(6)\n",
      "memory usage: 20.2+ MB\n"
     ]
    }
   ],
   "source": [
    "log_mini.info()"
   ]
  },
  {
   "cell_type": "code",
   "execution_count": 7,
   "metadata": {
    "ExecuteTime": {
     "end_time": "2018-11-21T06:08:49.337386Z",
     "start_time": "2018-11-21T06:08:48.908017Z"
    }
   },
   "outputs": [],
   "source": [
    "# I would be interested in turning the date into a datetime object and then \n",
    "# extracting the weekday to see if there is some seasonality happening\n",
    "from datetime import datetime as dt\n",
    "\n",
    "log_mini.date = pd.to_datetime(log_mini.date)\n",
    "log_mini['weekday'] = log_mini.date.dt.dayofweek # Return the day of the week as an integer, where Monday is 0 and Sunday is 6\n",
    "\n",
    "# this also means that I'm going to need to get dummy variables from weekday since it's categorical\n",
    "log_mini = pd.concat([log_mini, pd.get_dummies(log_mini['weekday'], prefix = 'weekday', drop_first = True)], axis = 1)\n",
    "log_mini = pd.concat([log_mini, pd.get_dummies(log_mini['hour_of_day'], prefix = 'hour', drop_first = True)], axis = 1)\n",
    "log_mini = pd.concat([log_mini, pd.get_dummies(log_mini['session_position'], prefix = 'sess_pos', drop_first = True)], axis = 1)\n",
    "log_mini = pd.concat([log_mini, pd.get_dummies(log_mini['hist_user_behavior_reason_start'], prefix = 'sess_pos', drop_first = True)], axis = 1)\n",
    "log_mini = pd.concat([log_mini, pd.get_dummies(log_mini['hist_user_behavior_reason_end'], prefix = 'sess_pos', drop_first = True)], axis = 1)\n",
    "log_mini = pd.concat([log_mini, pd.get_dummies(log_mini['context_type'], prefix = 'sess_pos', drop_first = True)], axis = 1)\n",
    "\n",
    "\n",
    "log_mini.drop(['weekday', 'hour_of_day', 'session_position', 'context_type', 'date','track_id_clean', 'track_id',\n",
    "               'session_id',\n",
    "               'hist_user_behavior_reason_start', 'hist_user_behavior_reason_end'], axis = 1, inplace = True, errors = 'ignore')\n",
    "\n"
   ]
  },
  {
   "cell_type": "markdown",
   "metadata": {},
   "source": [
    "Upon initial reading, I thought the problem was a classification problem in which we're asked to predict whether a user will skip this song or not (binary outcome). Now that I look at the df some more, I see that there are varying degrees of 'skip'. I think I'm going to try to simplify this problem first, and delve deeper when I've made modelling progress."
   ]
  },
  {
   "cell_type": "markdown",
   "metadata": {
    "collapsed": true
   },
   "source": [
    "let's first get familiar with the data by looking at the data for one session log"
   ]
  },
  {
   "cell_type": "code",
   "execution_count": 29,
   "metadata": {
    "ExecuteTime": {
     "end_time": "2018-11-21T06:13:20.267391Z",
     "start_time": "2018-11-21T06:13:20.260427Z"
    },
    "scrolled": true
   },
   "outputs": [],
   "source": [
    "# session_log_mask = (log_mini.session_id == log_mini.session_id[0])\n",
    "# one_session = log_mini[session_log_mask]\n",
    "# one_session_detailed = pd.merge(one_session, track_features, how = 'left', left_on='track_id_clean', right_on = 'track_id')"
   ]
  },
  {
   "cell_type": "code",
   "execution_count": 30,
   "metadata": {
    "ExecuteTime": {
     "end_time": "2018-11-21T06:13:24.440062Z",
     "start_time": "2018-11-21T06:13:24.435076Z"
    }
   },
   "outputs": [],
   "source": [
    "# to simplify this problem I only care about if they played the entire song or not (skip def)\n",
    "# one_session_detailed.drop(['skip_1', 'skip_2', 'skip_3', 'session_id', 'track_id_clean', 'track_id'], axis = 1, \n",
    "#                           inplace = True, errors = 'ignore')"
   ]
  },
  {
   "cell_type": "code",
   "execution_count": 31,
   "metadata": {
    "ExecuteTime": {
     "end_time": "2018-11-21T06:13:27.798820Z",
     "start_time": "2018-11-21T06:13:27.795359Z"
    },
    "scrolled": true
   },
   "outputs": [],
   "source": [
    "# one_session_detailed.info()\n",
    "# my target feature is 'not_skipped'"
   ]
  },
  {
   "cell_type": "code",
   "execution_count": 10,
   "metadata": {
    "ExecuteTime": {
     "end_time": "2018-11-21T06:09:14.791832Z",
     "start_time": "2018-11-21T06:09:14.425860Z"
    }
   },
   "outputs": [],
   "source": [
    "# i want to see the distribution of songs that play all the way through\n",
    "\n",
    "\n",
    "# plt.hist(log_mini.groupby('session_id')['not_skipped'].sum(), bins = 20)\n",
    "# plt.title('Distribution of songs that were not skipped per session')\n",
    "# plt.show();"
   ]
  },
  {
   "cell_type": "code",
   "execution_count": 11,
   "metadata": {
    "ExecuteTime": {
     "end_time": "2018-11-21T06:09:15.502866Z",
     "start_time": "2018-11-21T06:09:15.207212Z"
    },
    "scrolled": true
   },
   "outputs": [
    {
     "name": "stdout",
     "output_type": "stream",
     "text": [
      "<class 'pandas.core.frame.DataFrame'>\n",
      "RangeIndex: 167880 entries, 0 to 167879\n",
      "Data columns (total 80 columns):\n",
      "session_length                    167880 non-null int64\n",
      "skip_1                            167880 non-null bool\n",
      "skip_2                            167880 non-null bool\n",
      "skip_3                            167880 non-null bool\n",
      "not_skipped                       167880 non-null bool\n",
      "context_switch                    167880 non-null int64\n",
      "no_pause_before_play              167880 non-null int64\n",
      "short_pause_before_play           167880 non-null int64\n",
      "long_pause_before_play            167880 non-null int64\n",
      "hist_user_behavior_n_seekfwd      167880 non-null int64\n",
      "hist_user_behavior_n_seekback     167880 non-null int64\n",
      "hist_user_behavior_is_shuffle     167880 non-null bool\n",
      "premium                           167880 non-null bool\n",
      "weekday_1                         167880 non-null uint8\n",
      "weekday_2                         167880 non-null uint8\n",
      "weekday_3                         167880 non-null uint8\n",
      "weekday_4                         167880 non-null uint8\n",
      "weekday_5                         167880 non-null uint8\n",
      "weekday_6                         167880 non-null uint8\n",
      "hour_1                            167880 non-null uint8\n",
      "hour_2                            167880 non-null uint8\n",
      "hour_3                            167880 non-null uint8\n",
      "hour_4                            167880 non-null uint8\n",
      "hour_5                            167880 non-null uint8\n",
      "hour_6                            167880 non-null uint8\n",
      "hour_7                            167880 non-null uint8\n",
      "hour_8                            167880 non-null uint8\n",
      "hour_9                            167880 non-null uint8\n",
      "hour_10                           167880 non-null uint8\n",
      "hour_11                           167880 non-null uint8\n",
      "hour_12                           167880 non-null uint8\n",
      "hour_13                           167880 non-null uint8\n",
      "hour_14                           167880 non-null uint8\n",
      "hour_15                           167880 non-null uint8\n",
      "hour_16                           167880 non-null uint8\n",
      "hour_17                           167880 non-null uint8\n",
      "hour_18                           167880 non-null uint8\n",
      "hour_19                           167880 non-null uint8\n",
      "hour_20                           167880 non-null uint8\n",
      "hour_21                           167880 non-null uint8\n",
      "hour_22                           167880 non-null uint8\n",
      "hour_23                           167880 non-null uint8\n",
      "sess_pos_2                        167880 non-null uint8\n",
      "sess_pos_3                        167880 non-null uint8\n",
      "sess_pos_4                        167880 non-null uint8\n",
      "sess_pos_5                        167880 non-null uint8\n",
      "sess_pos_6                        167880 non-null uint8\n",
      "sess_pos_7                        167880 non-null uint8\n",
      "sess_pos_8                        167880 non-null uint8\n",
      "sess_pos_9                        167880 non-null uint8\n",
      "sess_pos_10                       167880 non-null uint8\n",
      "sess_pos_11                       167880 non-null uint8\n",
      "sess_pos_12                       167880 non-null uint8\n",
      "sess_pos_13                       167880 non-null uint8\n",
      "sess_pos_14                       167880 non-null uint8\n",
      "sess_pos_15                       167880 non-null uint8\n",
      "sess_pos_16                       167880 non-null uint8\n",
      "sess_pos_17                       167880 non-null uint8\n",
      "sess_pos_18                       167880 non-null uint8\n",
      "sess_pos_19                       167880 non-null uint8\n",
      "sess_pos_20                       167880 non-null uint8\n",
      "sess_pos_backbtn                  167880 non-null uint8\n",
      "sess_pos_clickrow                 167880 non-null uint8\n",
      "sess_pos_endplay                  167880 non-null uint8\n",
      "sess_pos_fwdbtn                   167880 non-null uint8\n",
      "sess_pos_playbtn                  167880 non-null uint8\n",
      "sess_pos_remote                   167880 non-null uint8\n",
      "sess_pos_trackdone                167880 non-null uint8\n",
      "sess_pos_trackerror               167880 non-null uint8\n",
      "sess_pos_clickrow                 167880 non-null uint8\n",
      "sess_pos_endplay                  167880 non-null uint8\n",
      "sess_pos_fwdbtn                   167880 non-null uint8\n",
      "sess_pos_logout                   167880 non-null uint8\n",
      "sess_pos_remote                   167880 non-null uint8\n",
      "sess_pos_trackdone                167880 non-null uint8\n",
      "sess_pos_charts                   167880 non-null uint8\n",
      "sess_pos_editorial_playlist       167880 non-null uint8\n",
      "sess_pos_personalized_playlist    167880 non-null uint8\n",
      "sess_pos_radio                    167880 non-null uint8\n",
      "sess_pos_user_collection          167880 non-null uint8\n",
      "dtypes: bool(6), int64(7), uint8(67)\n",
      "memory usage: 20.7 MB\n"
     ]
    }
   ],
   "source": [
    "# I want to make sure to compare it against a dummy classifier so i can establish a baseline\n",
    "# i need to scale things\n",
    "\n",
    "log_mini.info()"
   ]
  },
  {
   "cell_type": "markdown",
   "metadata": {},
   "source": [
    "### Modelling"
   ]
  },
  {
   "cell_type": "code",
   "execution_count": 12,
   "metadata": {
    "ExecuteTime": {
     "end_time": "2018-11-21T06:09:15.991089Z",
     "start_time": "2018-11-21T06:09:15.954733Z"
    }
   },
   "outputs": [],
   "source": [
    "x_features = log_mini.drop(['not_skipped'], axis = 1)\n",
    "y_target = log_mini.not_skipped"
   ]
  },
  {
   "cell_type": "code",
   "execution_count": 24,
   "metadata": {
    "ExecuteTime": {
     "end_time": "2018-11-21T06:12:08.155172Z",
     "start_time": "2018-11-21T06:12:08.062573Z"
    }
   },
   "outputs": [],
   "source": [
    "from sklearn.preprocessing import StandardScaler\n",
    "from sklearn.model_selection import train_test_split\n",
    "from imblearn.over_sampling import SMOTE, ADASYN\n",
    "\n",
    "from sklearn.metrics import accuracy_score, confusion_matrix\n",
    "from sklearn.linear_model import LogisticRegression\n",
    "from sklearn.dummy import DummyClassifier\n",
    "from sklearn.tree import DecisionTreeClassifier\n",
    "\n",
    "x_features = log_mini.drop(['not_skipped'], axis = 1)\n",
    "y_target = log_mini.not_skipped\n",
    "\n",
    "# sm = SMOTE(random_state=42) #this takes a long time so i would suggest saving to pkl and loading the pkl\n",
    "# x_res, y_res = sm.fit_sample(x_features, y_target)\n",
    "\n",
    "x_train, x_test, y_train, y_test = train_test_split(x_features, y_target)"
   ]
  },
  {
   "cell_type": "code",
   "execution_count": 28,
   "metadata": {
    "ExecuteTime": {
     "end_time": "2018-11-21T06:12:54.538750Z",
     "start_time": "2018-11-21T06:12:53.748598Z"
    },
    "scrolled": true
   },
   "outputs": [
    {
     "name": "stdout",
     "output_type": "stream",
     "text": [
      "0.5563259471050751\n"
     ]
    },
    {
     "data": {
      "text/plain": [
       "array([[18639,  9430],\n",
       "       [ 9188,  4713]])"
      ]
     },
     "execution_count": 28,
     "metadata": {},
     "output_type": "execute_result"
    }
   ],
   "source": [
    "dummy_classifier = DummyClassifier()\n",
    "dummy_classifier.fit(x_train, y_train)\n",
    "print(accuracy_score(dummy_classifier.predict(x_test), y_test))\n",
    "confusion_matrix(dummy_classifier.predict(x_test), y_test)\n",
    "# scaler = StandardScaler()\n",
    "# x_features = scaler.fit_transform(x_features)"
   ]
  },
  {
   "cell_type": "markdown",
   "metadata": {},
   "source": [
    "This is because it's an imbalanced dataset lmao"
   ]
  },
  {
   "cell_type": "code",
   "execution_count": null,
   "metadata": {
    "collapsed": true
   },
   "outputs": [],
   "source": []
  }
 ],
 "metadata": {
  "kernelspec": {
   "display_name": "Python 3",
   "language": "python",
   "name": "python3"
  },
  "language_info": {
   "codemirror_mode": {
    "name": "ipython",
    "version": 3
   },
   "file_extension": ".py",
   "mimetype": "text/x-python",
   "name": "python",
   "nbconvert_exporter": "python",
   "pygments_lexer": "ipython3",
   "version": "3.6.3"
  },
  "varInspector": {
   "cols": {
    "lenName": 16,
    "lenType": 16,
    "lenVar": 40
   },
   "kernels_config": {
    "python": {
     "delete_cmd_postfix": "",
     "delete_cmd_prefix": "del ",
     "library": "var_list.py",
     "varRefreshCmd": "print(var_dic_list())"
    },
    "r": {
     "delete_cmd_postfix": ") ",
     "delete_cmd_prefix": "rm(",
     "library": "var_list.r",
     "varRefreshCmd": "cat(var_dic_list()) "
    }
   },
   "types_to_exclude": [
    "module",
    "function",
    "builtin_function_or_method",
    "instance",
    "_Feature"
   ],
   "window_display": false
  }
 },
 "nbformat": 4,
 "nbformat_minor": 2
}
