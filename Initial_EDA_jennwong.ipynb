{
 "cells": [
  {
   "cell_type": "markdown",
   "metadata": {},
   "source": [
    "# This is Jennifer's first pass at the data to do EDA"
   ]
  },
  {
   "cell_type": "markdown",
   "metadata": {
    "heading_collapsed": true
   },
   "source": [
    "### EDA and preprocesssing"
   ]
  },
  {
   "cell_type": "code",
   "execution_count": 78,
   "metadata": {
    "ExecuteTime": {
     "end_time": "2018-11-22T19:38:01.852772Z",
     "start_time": "2018-11-22T19:38:01.825276Z"
    },
    "hidden": true
   },
   "outputs": [],
   "source": [
    "from glob import glob\n",
    "import pandas as pd\n",
    "import numpy as np\n",
    "from collections import Counter\n",
    "import pickle\n",
    "\n",
    "import matplotlib.pyplot as plt\n",
    "%matplotlib inline\n",
    "plt.style.use('seaborn')"
   ]
  },
  {
   "cell_type": "code",
   "execution_count": 2,
   "metadata": {
    "ExecuteTime": {
     "end_time": "2018-11-22T16:22:33.412718Z",
     "start_time": "2018-11-22T16:22:32.708918Z"
    },
    "hidden": true
   },
   "outputs": [
    {
     "data": {
      "text/html": [
       "<div>\n",
       "<style scoped>\n",
       "    .dataframe tbody tr th:only-of-type {\n",
       "        vertical-align: middle;\n",
       "    }\n",
       "\n",
       "    .dataframe tbody tr th {\n",
       "        vertical-align: top;\n",
       "    }\n",
       "\n",
       "    .dataframe thead th {\n",
       "        text-align: right;\n",
       "    }\n",
       "</style>\n",
       "<table border=\"1\" class=\"dataframe\">\n",
       "  <thead>\n",
       "    <tr style=\"text-align: right;\">\n",
       "      <th></th>\n",
       "      <th>track_id</th>\n",
       "      <th>duration</th>\n",
       "      <th>release_year</th>\n",
       "      <th>us_popularity_estimate</th>\n",
       "      <th>acousticness</th>\n",
       "      <th>beat_strength</th>\n",
       "      <th>bounciness</th>\n",
       "      <th>danceability</th>\n",
       "      <th>dyn_range_mean</th>\n",
       "      <th>energy</th>\n",
       "      <th>...</th>\n",
       "      <th>time_signature</th>\n",
       "      <th>valence</th>\n",
       "      <th>acoustic_vector_0</th>\n",
       "      <th>acoustic_vector_1</th>\n",
       "      <th>acoustic_vector_2</th>\n",
       "      <th>acoustic_vector_3</th>\n",
       "      <th>acoustic_vector_4</th>\n",
       "      <th>acoustic_vector_5</th>\n",
       "      <th>acoustic_vector_6</th>\n",
       "      <th>acoustic_vector_7</th>\n",
       "    </tr>\n",
       "  </thead>\n",
       "  <tbody>\n",
       "    <tr>\n",
       "      <th>0</th>\n",
       "      <td>t_a540e552-16d4-42f8-a185-232bd650ea7d</td>\n",
       "      <td>109.706673</td>\n",
       "      <td>1950</td>\n",
       "      <td>99.975414</td>\n",
       "      <td>0.458040</td>\n",
       "      <td>0.519497</td>\n",
       "      <td>0.504949</td>\n",
       "      <td>0.399767</td>\n",
       "      <td>7.511880</td>\n",
       "      <td>0.817709</td>\n",
       "      <td>...</td>\n",
       "      <td>4</td>\n",
       "      <td>0.935512</td>\n",
       "      <td>-0.033284</td>\n",
       "      <td>-0.411896</td>\n",
       "      <td>-0.028580</td>\n",
       "      <td>0.349438</td>\n",
       "      <td>0.832467</td>\n",
       "      <td>-0.213871</td>\n",
       "      <td>-0.299464</td>\n",
       "      <td>-0.675907</td>\n",
       "    </tr>\n",
       "    <tr>\n",
       "      <th>1</th>\n",
       "      <td>t_67965da0-132b-4b1e-8a69-0ef99b32287c</td>\n",
       "      <td>187.693329</td>\n",
       "      <td>1950</td>\n",
       "      <td>99.969430</td>\n",
       "      <td>0.916272</td>\n",
       "      <td>0.419223</td>\n",
       "      <td>0.545530</td>\n",
       "      <td>0.491235</td>\n",
       "      <td>9.098376</td>\n",
       "      <td>0.154258</td>\n",
       "      <td>...</td>\n",
       "      <td>3</td>\n",
       "      <td>0.359675</td>\n",
       "      <td>0.145703</td>\n",
       "      <td>-0.850372</td>\n",
       "      <td>0.123860</td>\n",
       "      <td>0.746904</td>\n",
       "      <td>0.371803</td>\n",
       "      <td>-0.420558</td>\n",
       "      <td>-0.213120</td>\n",
       "      <td>-0.525795</td>\n",
       "    </tr>\n",
       "    <tr>\n",
       "      <th>2</th>\n",
       "      <td>t_0614ecd3-a7d5-40a1-816e-156d5872a467</td>\n",
       "      <td>160.839996</td>\n",
       "      <td>1951</td>\n",
       "      <td>99.602549</td>\n",
       "      <td>0.812884</td>\n",
       "      <td>0.425890</td>\n",
       "      <td>0.508280</td>\n",
       "      <td>0.491625</td>\n",
       "      <td>8.368670</td>\n",
       "      <td>0.358813</td>\n",
       "      <td>...</td>\n",
       "      <td>4</td>\n",
       "      <td>0.726769</td>\n",
       "      <td>0.021720</td>\n",
       "      <td>-0.743634</td>\n",
       "      <td>0.333247</td>\n",
       "      <td>0.568447</td>\n",
       "      <td>0.411094</td>\n",
       "      <td>-0.187749</td>\n",
       "      <td>-0.387599</td>\n",
       "      <td>-0.433496</td>\n",
       "    </tr>\n",
       "    <tr>\n",
       "      <th>3</th>\n",
       "      <td>t_070a63a0-744a-434e-9913-a97b02926a29</td>\n",
       "      <td>175.399994</td>\n",
       "      <td>1951</td>\n",
       "      <td>99.665018</td>\n",
       "      <td>0.396854</td>\n",
       "      <td>0.400934</td>\n",
       "      <td>0.359990</td>\n",
       "      <td>0.552227</td>\n",
       "      <td>5.967346</td>\n",
       "      <td>0.514585</td>\n",
       "      <td>...</td>\n",
       "      <td>4</td>\n",
       "      <td>0.859075</td>\n",
       "      <td>0.039143</td>\n",
       "      <td>-0.267555</td>\n",
       "      <td>-0.051825</td>\n",
       "      <td>0.106173</td>\n",
       "      <td>0.614825</td>\n",
       "      <td>-0.111419</td>\n",
       "      <td>-0.265953</td>\n",
       "      <td>-0.542753</td>\n",
       "    </tr>\n",
       "    <tr>\n",
       "      <th>4</th>\n",
       "      <td>t_d6990e17-9c31-4b01-8559-47d9ce476df1</td>\n",
       "      <td>369.600006</td>\n",
       "      <td>1951</td>\n",
       "      <td>99.991764</td>\n",
       "      <td>0.728831</td>\n",
       "      <td>0.371328</td>\n",
       "      <td>0.335115</td>\n",
       "      <td>0.483044</td>\n",
       "      <td>5.802681</td>\n",
       "      <td>0.721442</td>\n",
       "      <td>...</td>\n",
       "      <td>4</td>\n",
       "      <td>0.562343</td>\n",
       "      <td>0.131931</td>\n",
       "      <td>-0.292523</td>\n",
       "      <td>-0.174819</td>\n",
       "      <td>-0.034422</td>\n",
       "      <td>0.717229</td>\n",
       "      <td>-0.016239</td>\n",
       "      <td>-0.392694</td>\n",
       "      <td>-0.455496</td>\n",
       "    </tr>\n",
       "  </tbody>\n",
       "</table>\n",
       "<p>5 rows × 30 columns</p>\n",
       "</div>"
      ],
      "text/plain": [
       "                                 track_id    duration  release_year  \\\n",
       "0  t_a540e552-16d4-42f8-a185-232bd650ea7d  109.706673          1950   \n",
       "1  t_67965da0-132b-4b1e-8a69-0ef99b32287c  187.693329          1950   \n",
       "2  t_0614ecd3-a7d5-40a1-816e-156d5872a467  160.839996          1951   \n",
       "3  t_070a63a0-744a-434e-9913-a97b02926a29  175.399994          1951   \n",
       "4  t_d6990e17-9c31-4b01-8559-47d9ce476df1  369.600006          1951   \n",
       "\n",
       "   us_popularity_estimate  acousticness  beat_strength  bounciness  \\\n",
       "0               99.975414      0.458040       0.519497    0.504949   \n",
       "1               99.969430      0.916272       0.419223    0.545530   \n",
       "2               99.602549      0.812884       0.425890    0.508280   \n",
       "3               99.665018      0.396854       0.400934    0.359990   \n",
       "4               99.991764      0.728831       0.371328    0.335115   \n",
       "\n",
       "   danceability  dyn_range_mean    energy        ...          time_signature  \\\n",
       "0      0.399767        7.511880  0.817709        ...                       4   \n",
       "1      0.491235        9.098376  0.154258        ...                       3   \n",
       "2      0.491625        8.368670  0.358813        ...                       4   \n",
       "3      0.552227        5.967346  0.514585        ...                       4   \n",
       "4      0.483044        5.802681  0.721442        ...                       4   \n",
       "\n",
       "    valence  acoustic_vector_0  acoustic_vector_1  acoustic_vector_2  \\\n",
       "0  0.935512          -0.033284          -0.411896          -0.028580   \n",
       "1  0.359675           0.145703          -0.850372           0.123860   \n",
       "2  0.726769           0.021720          -0.743634           0.333247   \n",
       "3  0.859075           0.039143          -0.267555          -0.051825   \n",
       "4  0.562343           0.131931          -0.292523          -0.174819   \n",
       "\n",
       "   acoustic_vector_3 acoustic_vector_4  acoustic_vector_5  acoustic_vector_6  \\\n",
       "0           0.349438          0.832467          -0.213871          -0.299464   \n",
       "1           0.746904          0.371803          -0.420558          -0.213120   \n",
       "2           0.568447          0.411094          -0.187749          -0.387599   \n",
       "3           0.106173          0.614825          -0.111419          -0.265953   \n",
       "4          -0.034422          0.717229          -0.016239          -0.392694   \n",
       "\n",
       "   acoustic_vector_7  \n",
       "0          -0.675907  \n",
       "1          -0.525795  \n",
       "2          -0.433496  \n",
       "3          -0.542753  \n",
       "4          -0.455496  \n",
       "\n",
       "[5 rows x 30 columns]"
      ]
     },
     "execution_count": 2,
     "metadata": {},
     "output_type": "execute_result"
    }
   ],
   "source": [
    "file_path = ('data/track_features/tf_mini.csv')\n",
    "track_features = pd.read_csv(file_path)\n",
    "track_features.head()"
   ]
  },
  {
   "cell_type": "code",
   "execution_count": 3,
   "metadata": {
    "ExecuteTime": {
     "end_time": "2018-11-22T16:22:33.461778Z",
     "start_time": "2018-11-22T16:22:33.416304Z"
    },
    "hidden": true,
    "scrolled": true
   },
   "outputs": [
    {
     "name": "stdout",
     "output_type": "stream",
     "text": [
      "<class 'pandas.core.frame.DataFrame'>\n",
      "RangeIndex: 50704 entries, 0 to 50703\n",
      "Data columns (total 30 columns):\n",
      "track_id                  50704 non-null object\n",
      "duration                  50704 non-null float64\n",
      "release_year              50704 non-null int64\n",
      "us_popularity_estimate    50704 non-null float64\n",
      "acousticness              50704 non-null float64\n",
      "beat_strength             50704 non-null float64\n",
      "bounciness                50704 non-null float64\n",
      "danceability              50704 non-null float64\n",
      "dyn_range_mean            50704 non-null float64\n",
      "energy                    50704 non-null float64\n",
      "flatness                  50704 non-null float64\n",
      "instrumentalness          50704 non-null float64\n",
      "key                       50704 non-null int64\n",
      "liveness                  50704 non-null float64\n",
      "loudness                  50704 non-null float64\n",
      "mechanism                 50704 non-null float64\n",
      "mode                      50704 non-null object\n",
      "organism                  50704 non-null float64\n",
      "speechiness               50704 non-null float64\n",
      "tempo                     50704 non-null float64\n",
      "time_signature            50704 non-null int64\n",
      "valence                   50704 non-null float64\n",
      "acoustic_vector_0         50704 non-null float64\n",
      "acoustic_vector_1         50704 non-null float64\n",
      "acoustic_vector_2         50704 non-null float64\n",
      "acoustic_vector_3         50704 non-null float64\n",
      "acoustic_vector_4         50704 non-null float64\n",
      "acoustic_vector_5         50704 non-null float64\n",
      "acoustic_vector_6         50704 non-null float64\n",
      "acoustic_vector_7         50704 non-null float64\n",
      "dtypes: float64(25), int64(3), object(2)\n",
      "memory usage: 11.6+ MB\n"
     ]
    }
   ],
   "source": [
    "track_features.info()"
   ]
  },
  {
   "cell_type": "code",
   "execution_count": 4,
   "metadata": {
    "ExecuteTime": {
     "end_time": "2018-11-22T16:22:34.017713Z",
     "start_time": "2018-11-22T16:22:33.464468Z"
    },
    "hidden": true
   },
   "outputs": [
    {
     "data": {
      "text/html": [
       "<div>\n",
       "<style scoped>\n",
       "    .dataframe tbody tr th:only-of-type {\n",
       "        vertical-align: middle;\n",
       "    }\n",
       "\n",
       "    .dataframe tbody tr th {\n",
       "        vertical-align: top;\n",
       "    }\n",
       "\n",
       "    .dataframe thead th {\n",
       "        text-align: right;\n",
       "    }\n",
       "</style>\n",
       "<table border=\"1\" class=\"dataframe\">\n",
       "  <thead>\n",
       "    <tr style=\"text-align: right;\">\n",
       "      <th></th>\n",
       "      <th>session_id</th>\n",
       "      <th>session_position</th>\n",
       "      <th>session_length</th>\n",
       "      <th>track_id_clean</th>\n",
       "      <th>skip_1</th>\n",
       "      <th>skip_2</th>\n",
       "      <th>skip_3</th>\n",
       "      <th>not_skipped</th>\n",
       "      <th>context_switch</th>\n",
       "      <th>no_pause_before_play</th>\n",
       "      <th>...</th>\n",
       "      <th>long_pause_before_play</th>\n",
       "      <th>hist_user_behavior_n_seekfwd</th>\n",
       "      <th>hist_user_behavior_n_seekback</th>\n",
       "      <th>hist_user_behavior_is_shuffle</th>\n",
       "      <th>hour_of_day</th>\n",
       "      <th>date</th>\n",
       "      <th>premium</th>\n",
       "      <th>context_type</th>\n",
       "      <th>hist_user_behavior_reason_start</th>\n",
       "      <th>hist_user_behavior_reason_end</th>\n",
       "    </tr>\n",
       "  </thead>\n",
       "  <tbody>\n",
       "    <tr>\n",
       "      <th>0</th>\n",
       "      <td>0_00006f66-33e5-4de7-a324-2d18e439fc1e</td>\n",
       "      <td>1</td>\n",
       "      <td>20</td>\n",
       "      <td>t_0479f24c-27d2-46d6-a00c-7ec928f2b539</td>\n",
       "      <td>False</td>\n",
       "      <td>False</td>\n",
       "      <td>False</td>\n",
       "      <td>True</td>\n",
       "      <td>0</td>\n",
       "      <td>0</td>\n",
       "      <td>...</td>\n",
       "      <td>0</td>\n",
       "      <td>0</td>\n",
       "      <td>0</td>\n",
       "      <td>True</td>\n",
       "      <td>16</td>\n",
       "      <td>2018-07-15</td>\n",
       "      <td>True</td>\n",
       "      <td>editorial_playlist</td>\n",
       "      <td>trackdone</td>\n",
       "      <td>trackdone</td>\n",
       "    </tr>\n",
       "    <tr>\n",
       "      <th>1</th>\n",
       "      <td>0_00006f66-33e5-4de7-a324-2d18e439fc1e</td>\n",
       "      <td>2</td>\n",
       "      <td>20</td>\n",
       "      <td>t_9099cd7b-c238-47b7-9381-f23f2c1d1043</td>\n",
       "      <td>False</td>\n",
       "      <td>False</td>\n",
       "      <td>False</td>\n",
       "      <td>True</td>\n",
       "      <td>0</td>\n",
       "      <td>1</td>\n",
       "      <td>...</td>\n",
       "      <td>0</td>\n",
       "      <td>0</td>\n",
       "      <td>0</td>\n",
       "      <td>True</td>\n",
       "      <td>16</td>\n",
       "      <td>2018-07-15</td>\n",
       "      <td>True</td>\n",
       "      <td>editorial_playlist</td>\n",
       "      <td>trackdone</td>\n",
       "      <td>trackdone</td>\n",
       "    </tr>\n",
       "    <tr>\n",
       "      <th>2</th>\n",
       "      <td>0_00006f66-33e5-4de7-a324-2d18e439fc1e</td>\n",
       "      <td>3</td>\n",
       "      <td>20</td>\n",
       "      <td>t_fc5df5ba-5396-49a7-8b29-35d0d28249e0</td>\n",
       "      <td>False</td>\n",
       "      <td>False</td>\n",
       "      <td>False</td>\n",
       "      <td>True</td>\n",
       "      <td>0</td>\n",
       "      <td>1</td>\n",
       "      <td>...</td>\n",
       "      <td>0</td>\n",
       "      <td>0</td>\n",
       "      <td>0</td>\n",
       "      <td>True</td>\n",
       "      <td>16</td>\n",
       "      <td>2018-07-15</td>\n",
       "      <td>True</td>\n",
       "      <td>editorial_playlist</td>\n",
       "      <td>trackdone</td>\n",
       "      <td>trackdone</td>\n",
       "    </tr>\n",
       "    <tr>\n",
       "      <th>3</th>\n",
       "      <td>0_00006f66-33e5-4de7-a324-2d18e439fc1e</td>\n",
       "      <td>4</td>\n",
       "      <td>20</td>\n",
       "      <td>t_23cff8d6-d874-4b20-83dc-94e450e8aa20</td>\n",
       "      <td>False</td>\n",
       "      <td>False</td>\n",
       "      <td>False</td>\n",
       "      <td>True</td>\n",
       "      <td>0</td>\n",
       "      <td>1</td>\n",
       "      <td>...</td>\n",
       "      <td>0</td>\n",
       "      <td>0</td>\n",
       "      <td>0</td>\n",
       "      <td>True</td>\n",
       "      <td>16</td>\n",
       "      <td>2018-07-15</td>\n",
       "      <td>True</td>\n",
       "      <td>editorial_playlist</td>\n",
       "      <td>trackdone</td>\n",
       "      <td>trackdone</td>\n",
       "    </tr>\n",
       "    <tr>\n",
       "      <th>4</th>\n",
       "      <td>0_00006f66-33e5-4de7-a324-2d18e439fc1e</td>\n",
       "      <td>5</td>\n",
       "      <td>20</td>\n",
       "      <td>t_64f3743c-f624-46bb-a579-0f3f9a07a123</td>\n",
       "      <td>False</td>\n",
       "      <td>False</td>\n",
       "      <td>False</td>\n",
       "      <td>True</td>\n",
       "      <td>0</td>\n",
       "      <td>1</td>\n",
       "      <td>...</td>\n",
       "      <td>0</td>\n",
       "      <td>0</td>\n",
       "      <td>0</td>\n",
       "      <td>True</td>\n",
       "      <td>16</td>\n",
       "      <td>2018-07-15</td>\n",
       "      <td>True</td>\n",
       "      <td>editorial_playlist</td>\n",
       "      <td>trackdone</td>\n",
       "      <td>trackdone</td>\n",
       "    </tr>\n",
       "  </tbody>\n",
       "</table>\n",
       "<p>5 rows × 21 columns</p>\n",
       "</div>"
      ],
      "text/plain": [
       "                               session_id  session_position  session_length  \\\n",
       "0  0_00006f66-33e5-4de7-a324-2d18e439fc1e                 1              20   \n",
       "1  0_00006f66-33e5-4de7-a324-2d18e439fc1e                 2              20   \n",
       "2  0_00006f66-33e5-4de7-a324-2d18e439fc1e                 3              20   \n",
       "3  0_00006f66-33e5-4de7-a324-2d18e439fc1e                 4              20   \n",
       "4  0_00006f66-33e5-4de7-a324-2d18e439fc1e                 5              20   \n",
       "\n",
       "                           track_id_clean  skip_1  skip_2  skip_3  \\\n",
       "0  t_0479f24c-27d2-46d6-a00c-7ec928f2b539   False   False   False   \n",
       "1  t_9099cd7b-c238-47b7-9381-f23f2c1d1043   False   False   False   \n",
       "2  t_fc5df5ba-5396-49a7-8b29-35d0d28249e0   False   False   False   \n",
       "3  t_23cff8d6-d874-4b20-83dc-94e450e8aa20   False   False   False   \n",
       "4  t_64f3743c-f624-46bb-a579-0f3f9a07a123   False   False   False   \n",
       "\n",
       "   not_skipped  context_switch  no_pause_before_play  \\\n",
       "0         True               0                     0   \n",
       "1         True               0                     1   \n",
       "2         True               0                     1   \n",
       "3         True               0                     1   \n",
       "4         True               0                     1   \n",
       "\n",
       "               ...               long_pause_before_play  \\\n",
       "0              ...                                    0   \n",
       "1              ...                                    0   \n",
       "2              ...                                    0   \n",
       "3              ...                                    0   \n",
       "4              ...                                    0   \n",
       "\n",
       "   hist_user_behavior_n_seekfwd  hist_user_behavior_n_seekback  \\\n",
       "0                             0                              0   \n",
       "1                             0                              0   \n",
       "2                             0                              0   \n",
       "3                             0                              0   \n",
       "4                             0                              0   \n",
       "\n",
       "   hist_user_behavior_is_shuffle  hour_of_day        date premium  \\\n",
       "0                           True           16  2018-07-15    True   \n",
       "1                           True           16  2018-07-15    True   \n",
       "2                           True           16  2018-07-15    True   \n",
       "3                           True           16  2018-07-15    True   \n",
       "4                           True           16  2018-07-15    True   \n",
       "\n",
       "         context_type hist_user_behavior_reason_start  \\\n",
       "0  editorial_playlist                       trackdone   \n",
       "1  editorial_playlist                       trackdone   \n",
       "2  editorial_playlist                       trackdone   \n",
       "3  editorial_playlist                       trackdone   \n",
       "4  editorial_playlist                       trackdone   \n",
       "\n",
       "  hist_user_behavior_reason_end  \n",
       "0                     trackdone  \n",
       "1                     trackdone  \n",
       "2                     trackdone  \n",
       "3                     trackdone  \n",
       "4                     trackdone  \n",
       "\n",
       "[5 rows x 21 columns]"
      ]
     },
     "execution_count": 4,
     "metadata": {},
     "output_type": "execute_result"
    }
   ],
   "source": [
    "log_mini_path = 'data/training_set/log_mini.csv'\n",
    "log_mini = pd.read_csv(log_mini_path)\n",
    "log_mini.head()"
   ]
  },
  {
   "cell_type": "code",
   "execution_count": 5,
   "metadata": {
    "ExecuteTime": {
     "end_time": "2018-11-22T16:22:34.034552Z",
     "start_time": "2018-11-22T16:22:34.021040Z"
    },
    "collapsed": true,
    "hidden": true
   },
   "outputs": [],
   "source": [
    "# what is the distribution of skipping\n",
    "\n",
    "# plt.hist((log_mini.groupby('session_id')['skip_1'].sum()/log_mini.groupby('session_id')['session_length'].max()), bins = 20, alpha = 0.5, color = 'g')\n",
    "# plt.hist((log_mini.groupby('session_id')['skip_2'].sum()/log_mini.groupby('session_id')['session_length'].max()), bins = 20, alpha = 0.5, color = 'blue')\n",
    "# plt.hist((log_mini.groupby('session_id')['skip_3'].sum()/log_mini.groupby('session_id')['session_length'].max()), bins = 20, alpha = 0.5, color = 'purple')\n",
    "\n",
    "# plt.show();"
   ]
  },
  {
   "cell_type": "code",
   "execution_count": 6,
   "metadata": {
    "ExecuteTime": {
     "end_time": "2018-11-22T16:22:34.352755Z",
     "start_time": "2018-11-22T16:22:34.037494Z"
    },
    "hidden": true
   },
   "outputs": [
    {
     "data": {
      "image/png": "[encoded data removed]",
      "text/plain": [
       "<Figure size 576x396 with 1 Axes>"
      ]
     },
     "metadata": {},
     "output_type": "display_data"
    }
   ],
   "source": [
    "plt.hist((log_mini.groupby('session_id')['not_skipped'].sum()/log_mini.groupby('session_id')['session_length'].max()) , bins = 20)\n",
    "plt.title('Distribution of not_skip rates per session')\n",
    "\n",
    "plt.show();"
   ]
  },
  {
   "cell_type": "code",
   "execution_count": 7,
   "metadata": {
    "ExecuteTime": {
     "end_time": "2018-11-22T16:22:34.419257Z",
     "start_time": "2018-11-22T16:22:34.355550Z"
    },
    "hidden": true
   },
   "outputs": [
    {
     "data": {
      "text/plain": [
       "0.33973226547403534"
      ]
     },
     "execution_count": 7,
     "metadata": {},
     "output_type": "execute_result"
    }
   ],
   "source": [
    "np.mean(log_mini.groupby('session_id')['not_skipped'].sum()/log_mini.groupby('session_id')['session_length'].max())\n",
    "\n",
    "# this tells me that on average, people are listening to a third of the session to completion"
   ]
  },
  {
   "cell_type": "code",
   "execution_count": 8,
   "metadata": {
    "ExecuteTime": {
     "end_time": "2018-11-22T16:22:34.431095Z",
     "start_time": "2018-11-22T16:22:34.422732Z"
    },
    "collapsed": true,
    "hidden": true
   },
   "outputs": [],
   "source": [
    "# log_mini.session_length.unique() # this tells me that I need to normalize the skip rate with the session length"
   ]
  },
  {
   "cell_type": "code",
   "execution_count": 9,
   "metadata": {
    "ExecuteTime": {
     "end_time": "2018-11-22T16:22:34.571620Z",
     "start_time": "2018-11-22T16:22:34.440900Z"
    },
    "hidden": true
   },
   "outputs": [
    {
     "name": "stdout",
     "output_type": "stream",
     "text": [
      "<class 'pandas.core.frame.DataFrame'>\n",
      "RangeIndex: 167880 entries, 0 to 167879\n",
      "Data columns (total 21 columns):\n",
      "session_id                         167880 non-null object\n",
      "session_position                   167880 non-null int64\n",
      "session_length                     167880 non-null int64\n",
      "track_id_clean                     167880 non-null object\n",
      "skip_1                             167880 non-null bool\n",
      "skip_2                             167880 non-null bool\n",
      "skip_3                             167880 non-null bool\n",
      "not_skipped                        167880 non-null bool\n",
      "context_switch                     167880 non-null int64\n",
      "no_pause_before_play               167880 non-null int64\n",
      "short_pause_before_play            167880 non-null int64\n",
      "long_pause_before_play             167880 non-null int64\n",
      "hist_user_behavior_n_seekfwd       167880 non-null int64\n",
      "hist_user_behavior_n_seekback      167880 non-null int64\n",
      "hist_user_behavior_is_shuffle      167880 non-null bool\n",
      "hour_of_day                        167880 non-null int64\n",
      "date                               167880 non-null object\n",
      "premium                            167880 non-null bool\n",
      "context_type                       167880 non-null object\n",
      "hist_user_behavior_reason_start    167880 non-null object\n",
      "hist_user_behavior_reason_end      167880 non-null object\n",
      "dtypes: bool(6), int64(9), object(6)\n",
      "memory usage: 20.2+ MB\n"
     ]
    }
   ],
   "source": [
    "log_mini.info()"
   ]
  },
  {
   "cell_type": "code",
   "execution_count": 10,
   "metadata": {
    "ExecuteTime": {
     "end_time": "2018-11-22T16:22:34.996084Z",
     "start_time": "2018-11-22T16:22:34.574009Z"
    },
    "collapsed": true,
    "hidden": true
   },
   "outputs": [],
   "source": [
    "# I would be interested in turning the date into a datetime object and then \n",
    "# extracting the weekday to see if there is some seasonality happening\n",
    "from datetime import datetime as dt\n",
    "\n",
    "log_mini.date = pd.to_datetime(log_mini.date)\n",
    "log_mini['weekday'] = log_mini.date.dt.dayofweek # Return the day of the week as an integer, where Monday is 0 and Sunday is 6\n",
    "\n",
    "# this also means that I'm going to need to get dummy variables from weekday since it's categorical\n",
    "log_mini = pd.concat([log_mini, pd.get_dummies(log_mini['weekday'], prefix = 'weekday', drop_first = True)], axis = 1)\n",
    "log_mini = pd.concat([log_mini, pd.get_dummies(log_mini['hour_of_day'], prefix = 'hour', drop_first = True)], axis = 1)\n",
    "log_mini = pd.concat([log_mini, pd.get_dummies(log_mini['session_position'], prefix = 'sess_pos', drop_first = True)], axis = 1)\n",
    "log_mini = pd.concat([log_mini, pd.get_dummies(log_mini['hist_user_behavior_reason_start'], prefix = 'start_hist_b', drop_first = True)], axis = 1)\n",
    "log_mini = pd.concat([log_mini, pd.get_dummies(log_mini['hist_user_behavior_reason_end'], prefix = 'end_hist_b', drop_first = True)], axis = 1)\n",
    "log_mini = pd.concat([log_mini, pd.get_dummies(log_mini['context_type'], prefix = 'context', drop_first = True)], axis = 1)\n",
    "\n",
    "\n",
    "log_mini.drop(['weekday', 'hour_of_day', 'session_position', 'context_type', 'date','track_id_clean', 'track_id',\n",
    "               'session_id','short_pause_before_play', 'long_pause_before_play',\n",
    "               'hist_user_behavior_reason_start', 'hist_user_behavior_reason_end'], axis = 1, inplace = True, errors = 'ignore')\n",
    "\n"
   ]
  },
  {
   "cell_type": "markdown",
   "metadata": {
    "hidden": true
   },
   "source": [
    "Upon initial reading, I thought the problem was a classification problem in which we're asked to predict whether a user will skip this song or not (binary outcome). Now that I look at the df some more, I see that there are varying degrees of 'skip'. I think I'm going to try to simplify this problem first, and delve deeper when I've made modelling progress."
   ]
  },
  {
   "cell_type": "markdown",
   "metadata": {
    "collapsed": true,
    "hidden": true
   },
   "source": [
    "let's first get familiar with the data by looking at the data for one session log"
   ]
  },
  {
   "cell_type": "code",
   "execution_count": 11,
   "metadata": {
    "ExecuteTime": {
     "end_time": "2018-11-22T16:22:35.005326Z",
     "start_time": "2018-11-22T16:22:34.998111Z"
    },
    "collapsed": true,
    "hidden": true,
    "scrolled": true
   },
   "outputs": [],
   "source": [
    "# session_log_mask = (log_mini.session_id == log_mini.session_id[0])\n",
    "# one_session = log_mini[session_log_mask]\n",
    "# one_session_detailed = pd.merge(one_session, track_features, how = 'left', left_on='track_id_clean', right_on = 'track_id')"
   ]
  },
  {
   "cell_type": "code",
   "execution_count": 12,
   "metadata": {
    "ExecuteTime": {
     "end_time": "2018-11-22T16:22:35.017847Z",
     "start_time": "2018-11-22T16:22:35.008348Z"
    },
    "collapsed": true,
    "hidden": true
   },
   "outputs": [],
   "source": [
    "# to simplify this problem I only care about if they played the entire song or not (skip def)\n",
    "# one_session_detailed.drop(['skip_1', 'skip_2', 'skip_3', 'session_id', 'track_id_clean', 'track_id'], axis = 1, \n",
    "#                           inplace = True, errors = 'ignore')"
   ]
  },
  {
   "cell_type": "code",
   "execution_count": 13,
   "metadata": {
    "ExecuteTime": {
     "end_time": "2018-11-22T16:22:35.029967Z",
     "start_time": "2018-11-22T16:22:35.020377Z"
    },
    "collapsed": true,
    "hidden": true,
    "scrolled": true
   },
   "outputs": [],
   "source": [
    "# one_session_detailed.info()\n",
    "# my target feature is 'not_skipped'"
   ]
  },
  {
   "cell_type": "code",
   "execution_count": 14,
   "metadata": {
    "ExecuteTime": {
     "end_time": "2018-11-22T16:22:35.047106Z",
     "start_time": "2018-11-22T16:22:35.038226Z"
    },
    "collapsed": true,
    "hidden": true
   },
   "outputs": [],
   "source": [
    "# i want to see the distribution of songs that play all the way through\n",
    "\n",
    "\n",
    "# plt.hist(log_mini.groupby('session_id')['not_skipped'].sum(), bins = 20)\n",
    "# plt.title('Distribution of songs that were not skipped per session')\n",
    "# plt.show();"
   ]
  },
  {
   "cell_type": "code",
   "execution_count": 15,
   "metadata": {
    "ExecuteTime": {
     "end_time": "2018-11-22T16:22:35.327521Z",
     "start_time": "2018-11-22T16:22:35.058405Z"
    },
    "hidden": true,
    "scrolled": true
   },
   "outputs": [
    {
     "name": "stdout",
     "output_type": "stream",
     "text": [
      "<class 'pandas.core.frame.DataFrame'>\n",
      "RangeIndex: 167880 entries, 0 to 167879\n",
      "Data columns (total 78 columns):\n",
      "session_length                   167880 non-null int64\n",
      "skip_1                           167880 non-null bool\n",
      "skip_2                           167880 non-null bool\n",
      "skip_3                           167880 non-null bool\n",
      "not_skipped                      167880 non-null bool\n",
      "context_switch                   167880 non-null int64\n",
      "no_pause_before_play             167880 non-null int64\n",
      "hist_user_behavior_n_seekfwd     167880 non-null int64\n",
      "hist_user_behavior_n_seekback    167880 non-null int64\n",
      "hist_user_behavior_is_shuffle    167880 non-null bool\n",
      "premium                          167880 non-null bool\n",
      "weekday_1                        167880 non-null uint8\n",
      "weekday_2                        167880 non-null uint8\n",
      "weekday_3                        167880 non-null uint8\n",
      "weekday_4                        167880 non-null uint8\n",
      "weekday_5                        167880 non-null uint8\n",
      "weekday_6                        167880 non-null uint8\n",
      "hour_1                           167880 non-null uint8\n",
      "hour_2                           167880 non-null uint8\n",
      "hour_3                           167880 non-null uint8\n",
      "hour_4                           167880 non-null uint8\n",
      "hour_5                           167880 non-null uint8\n",
      "hour_6                           167880 non-null uint8\n",
      "hour_7                           167880 non-null uint8\n",
      "hour_8                           167880 non-null uint8\n",
      "hour_9                           167880 non-null uint8\n",
      "hour_10                          167880 non-null uint8\n",
      "hour_11                          167880 non-null uint8\n",
      "hour_12                          167880 non-null uint8\n",
      "hour_13                          167880 non-null uint8\n",
      "hour_14                          167880 non-null uint8\n",
      "hour_15                          167880 non-null uint8\n",
      "hour_16                          167880 non-null uint8\n",
      "hour_17                          167880 non-null uint8\n",
      "hour_18                          167880 non-null uint8\n",
      "hour_19                          167880 non-null uint8\n",
      "hour_20                          167880 non-null uint8\n",
      "hour_21                          167880 non-null uint8\n",
      "hour_22                          167880 non-null uint8\n",
      "hour_23                          167880 non-null uint8\n",
      "sess_pos_2                       167880 non-null uint8\n",
      "sess_pos_3                       167880 non-null uint8\n",
      "sess_pos_4                       167880 non-null uint8\n",
      "sess_pos_5                       167880 non-null uint8\n",
      "sess_pos_6                       167880 non-null uint8\n",
      "sess_pos_7                       167880 non-null uint8\n",
      "sess_pos_8                       167880 non-null uint8\n",
      "sess_pos_9                       167880 non-null uint8\n",
      "sess_pos_10                      167880 non-null uint8\n",
      "sess_pos_11                      167880 non-null uint8\n",
      "sess_pos_12                      167880 non-null uint8\n",
      "sess_pos_13                      167880 non-null uint8\n",
      "sess_pos_14                      167880 non-null uint8\n",
      "sess_pos_15                      167880 non-null uint8\n",
      "sess_pos_16                      167880 non-null uint8\n",
      "sess_pos_17                      167880 non-null uint8\n",
      "sess_pos_18                      167880 non-null uint8\n",
      "sess_pos_19                      167880 non-null uint8\n",
      "sess_pos_20                      167880 non-null uint8\n",
      "start_hist_b_backbtn             167880 non-null uint8\n",
      "start_hist_b_clickrow            167880 non-null uint8\n",
      "start_hist_b_endplay             167880 non-null uint8\n",
      "start_hist_b_fwdbtn              167880 non-null uint8\n",
      "start_hist_b_playbtn             167880 non-null uint8\n",
      "start_hist_b_remote              167880 non-null uint8\n",
      "start_hist_b_trackdone           167880 non-null uint8\n",
      "start_hist_b_trackerror          167880 non-null uint8\n",
      "end_hist_b_clickrow              167880 non-null uint8\n",
      "end_hist_b_endplay               167880 non-null uint8\n",
      "end_hist_b_fwdbtn                167880 non-null uint8\n",
      "end_hist_b_logout                167880 non-null uint8\n",
      "end_hist_b_remote                167880 non-null uint8\n",
      "end_hist_b_trackdone             167880 non-null uint8\n",
      "context_charts                   167880 non-null uint8\n",
      "context_editorial_playlist       167880 non-null uint8\n",
      "context_personalized_playlist    167880 non-null uint8\n",
      "context_radio                    167880 non-null uint8\n",
      "context_user_collection          167880 non-null uint8\n",
      "dtypes: bool(6), int64(5), uint8(67)\n",
      "memory usage: 18.1 MB\n"
     ]
    }
   ],
   "source": [
    "# I want to make sure to compare it against a dummy classifier so i can establish a baseline\n",
    "# i need to scale things\n",
    "\n",
    "log_mini.info()"
   ]
  },
  {
   "cell_type": "markdown",
   "metadata": {},
   "source": [
    "### Modelling without dummifying\n"
   ]
  },
  {
   "cell_type": "markdown",
   "metadata": {
    "collapsed": true
   },
   "source": [
    "Justification for starting with RandomForest:\n",
    "\n"
   ]
  },
  {
   "cell_type": "code",
   "execution_count": 30,
   "metadata": {
    "ExecuteTime": {
     "end_time": "2018-11-22T16:23:14.812777Z",
     "start_time": "2018-11-22T16:23:14.808090Z"
    },
    "scrolled": true
   },
   "outputs": [],
   "source": [
    "# log_mini.dtypes"
   ]
  },
  {
   "cell_type": "code",
   "execution_count": 58,
   "metadata": {
    "ExecuteTime": {
     "end_time": "2018-11-22T19:03:42.307081Z",
     "start_time": "2018-11-22T19:03:41.122620Z"
    }
   },
   "outputs": [
    {
     "data": {
      "text/html": [
       "<div>\n",
       "<style scoped>\n",
       "    .dataframe tbody tr th:only-of-type {\n",
       "        vertical-align: middle;\n",
       "    }\n",
       "\n",
       "    .dataframe tbody tr th {\n",
       "        vertical-align: top;\n",
       "    }\n",
       "\n",
       "    .dataframe thead th {\n",
       "        text-align: right;\n",
       "    }\n",
       "</style>\n",
       "<table border=\"1\" class=\"dataframe\">\n",
       "  <thead>\n",
       "    <tr style=\"text-align: right;\">\n",
       "      <th></th>\n",
       "      <th>session_id</th>\n",
       "      <th>session_position</th>\n",
       "      <th>session_length</th>\n",
       "      <th>skip_1</th>\n",
       "      <th>skip_2</th>\n",
       "      <th>skip_3</th>\n",
       "      <th>not_skipped</th>\n",
       "      <th>context_switch</th>\n",
       "      <th>no_pause_before_play</th>\n",
       "      <th>short_pause_before_play</th>\n",
       "      <th>...</th>\n",
       "      <th>valence</th>\n",
       "      <th>acoustic_vector_0</th>\n",
       "      <th>acoustic_vector_1</th>\n",
       "      <th>acoustic_vector_2</th>\n",
       "      <th>acoustic_vector_3</th>\n",
       "      <th>acoustic_vector_4</th>\n",
       "      <th>acoustic_vector_5</th>\n",
       "      <th>acoustic_vector_6</th>\n",
       "      <th>acoustic_vector_7</th>\n",
       "      <th>is_major</th>\n",
       "    </tr>\n",
       "  </thead>\n",
       "  <tbody>\n",
       "    <tr>\n",
       "      <th>0</th>\n",
       "      <td>0_00006f66-33e5-4de7-a324-2d18e439fc1e</td>\n",
       "      <td>1</td>\n",
       "      <td>20</td>\n",
       "      <td>False</td>\n",
       "      <td>False</td>\n",
       "      <td>False</td>\n",
       "      <td>True</td>\n",
       "      <td>0</td>\n",
       "      <td>0</td>\n",
       "      <td>0</td>\n",
       "      <td>...</td>\n",
       "      <td>0.152255</td>\n",
       "      <td>-0.815775</td>\n",
       "      <td>0.386409</td>\n",
       "      <td>0.23016</td>\n",
       "      <td>0.028028</td>\n",
       "      <td>-0.333373</td>\n",
       "      <td>0.015452</td>\n",
       "      <td>-0.35359</td>\n",
       "      <td>0.205826</td>\n",
       "      <td>1</td>\n",
       "    </tr>\n",
       "    <tr>\n",
       "      <th>1</th>\n",
       "      <td>0_00079a23-1600-486a-91bd-5208be0c745a</td>\n",
       "      <td>7</td>\n",
       "      <td>12</td>\n",
       "      <td>False</td>\n",
       "      <td>False</td>\n",
       "      <td>True</td>\n",
       "      <td>False</td>\n",
       "      <td>0</td>\n",
       "      <td>0</td>\n",
       "      <td>1</td>\n",
       "      <td>...</td>\n",
       "      <td>0.152255</td>\n",
       "      <td>-0.815775</td>\n",
       "      <td>0.386409</td>\n",
       "      <td>0.23016</td>\n",
       "      <td>0.028028</td>\n",
       "      <td>-0.333373</td>\n",
       "      <td>0.015452</td>\n",
       "      <td>-0.35359</td>\n",
       "      <td>0.205826</td>\n",
       "      <td>1</td>\n",
       "    </tr>\n",
       "    <tr>\n",
       "      <th>2</th>\n",
       "      <td>0_012b0fb4-0cc3-429f-9a78-cc6e622153fb</td>\n",
       "      <td>6</td>\n",
       "      <td>20</td>\n",
       "      <td>False</td>\n",
       "      <td>False</td>\n",
       "      <td>False</td>\n",
       "      <td>True</td>\n",
       "      <td>0</td>\n",
       "      <td>0</td>\n",
       "      <td>1</td>\n",
       "      <td>...</td>\n",
       "      <td>0.152255</td>\n",
       "      <td>-0.815775</td>\n",
       "      <td>0.386409</td>\n",
       "      <td>0.23016</td>\n",
       "      <td>0.028028</td>\n",
       "      <td>-0.333373</td>\n",
       "      <td>0.015452</td>\n",
       "      <td>-0.35359</td>\n",
       "      <td>0.205826</td>\n",
       "      <td>1</td>\n",
       "    </tr>\n",
       "    <tr>\n",
       "      <th>3</th>\n",
       "      <td>0_013cc010-c476-4ad2-8972-73449e0b2ef4</td>\n",
       "      <td>9</td>\n",
       "      <td>13</td>\n",
       "      <td>False</td>\n",
       "      <td>False</td>\n",
       "      <td>False</td>\n",
       "      <td>True</td>\n",
       "      <td>0</td>\n",
       "      <td>1</td>\n",
       "      <td>0</td>\n",
       "      <td>...</td>\n",
       "      <td>0.152255</td>\n",
       "      <td>-0.815775</td>\n",
       "      <td>0.386409</td>\n",
       "      <td>0.23016</td>\n",
       "      <td>0.028028</td>\n",
       "      <td>-0.333373</td>\n",
       "      <td>0.015452</td>\n",
       "      <td>-0.35359</td>\n",
       "      <td>0.205826</td>\n",
       "      <td>1</td>\n",
       "    </tr>\n",
       "    <tr>\n",
       "      <th>4</th>\n",
       "      <td>0_01a5f0dc-9938-48c9-92f1-c7e51f34d290</td>\n",
       "      <td>7</td>\n",
       "      <td>12</td>\n",
       "      <td>False</td>\n",
       "      <td>False</td>\n",
       "      <td>True</td>\n",
       "      <td>False</td>\n",
       "      <td>0</td>\n",
       "      <td>0</td>\n",
       "      <td>1</td>\n",
       "      <td>...</td>\n",
       "      <td>0.152255</td>\n",
       "      <td>-0.815775</td>\n",
       "      <td>0.386409</td>\n",
       "      <td>0.23016</td>\n",
       "      <td>0.028028</td>\n",
       "      <td>-0.333373</td>\n",
       "      <td>0.015452</td>\n",
       "      <td>-0.35359</td>\n",
       "      <td>0.205826</td>\n",
       "      <td>1</td>\n",
       "    </tr>\n",
       "  </tbody>\n",
       "</table>\n",
       "<p>5 rows × 50 columns</p>\n",
       "</div>"
      ],
      "text/plain": [
       "                               session_id  session_position  session_length  \\\n",
       "0  0_00006f66-33e5-4de7-a324-2d18e439fc1e                 1              20   \n",
       "1  0_00079a23-1600-486a-91bd-5208be0c745a                 7              12   \n",
       "2  0_012b0fb4-0cc3-429f-9a78-cc6e622153fb                 6              20   \n",
       "3  0_013cc010-c476-4ad2-8972-73449e0b2ef4                 9              13   \n",
       "4  0_01a5f0dc-9938-48c9-92f1-c7e51f34d290                 7              12   \n",
       "\n",
       "   skip_1  skip_2  skip_3  not_skipped  context_switch  no_pause_before_play  \\\n",
       "0   False   False   False         True               0                     0   \n",
       "1   False   False    True        False               0                     0   \n",
       "2   False   False   False         True               0                     0   \n",
       "3   False   False   False         True               0                     1   \n",
       "4   False   False    True        False               0                     0   \n",
       "\n",
       "   short_pause_before_play   ...      valence  acoustic_vector_0  \\\n",
       "0                        0   ...     0.152255          -0.815775   \n",
       "1                        1   ...     0.152255          -0.815775   \n",
       "2                        1   ...     0.152255          -0.815775   \n",
       "3                        0   ...     0.152255          -0.815775   \n",
       "4                        1   ...     0.152255          -0.815775   \n",
       "\n",
       "   acoustic_vector_1  acoustic_vector_2  acoustic_vector_3 acoustic_vector_4  \\\n",
       "0           0.386409            0.23016           0.028028         -0.333373   \n",
       "1           0.386409            0.23016           0.028028         -0.333373   \n",
       "2           0.386409            0.23016           0.028028         -0.333373   \n",
       "3           0.386409            0.23016           0.028028         -0.333373   \n",
       "4           0.386409            0.23016           0.028028         -0.333373   \n",
       "\n",
       "   acoustic_vector_5 acoustic_vector_6 acoustic_vector_7 is_major  \n",
       "0           0.015452          -0.35359          0.205826        1  \n",
       "1           0.015452          -0.35359          0.205826        1  \n",
       "2           0.015452          -0.35359          0.205826        1  \n",
       "3           0.015452          -0.35359          0.205826        1  \n",
       "4           0.015452          -0.35359          0.205826        1  \n",
       "\n",
       "[5 rows x 50 columns]"
      ]
     },
     "execution_count": 58,
     "metadata": {},
     "output_type": "execute_result"
    }
   ],
   "source": [
    "from sklearn.ensemble import RandomForestClassifier\n",
    "from sklearn.model_selection import GridSearchCV\n",
    "\n",
    "log_mini_no_process = pd.read_csv('data/training_set/log_mini.csv')\n",
    "skipped_data = log_mini_no_process[['track_id_clean', 'not_skipped']].copy()\n",
    "\n",
    "track_features['is_major'] = (track_features['mode'] == 'major').astype(int)\n",
    "session_with_track_info = (pd.merge(log_mini_no_process, track_features, left_on='track_id_clean', right_on='track_id')\n",
    "                            .drop(['track_id_clean', 'track_id'], axis=1))\n",
    "session_with_track_info.head()"
   ]
  },
  {
   "cell_type": "code",
   "execution_count": 34,
   "metadata": {
    "ExecuteTime": {
     "end_time": "2018-11-22T16:39:08.586015Z",
     "start_time": "2018-11-22T16:39:02.074141Z"
    }
   },
   "outputs": [
    {
     "data": {
      "text/plain": [
       "RandomForestClassifier(bootstrap=True, class_weight=None, criterion='gini',\n",
       "            max_depth=None, max_features='auto', max_leaf_nodes=None,\n",
       "            min_impurity_decrease=0.0, min_impurity_split=None,\n",
       "            min_samples_leaf=1, min_samples_split=2,\n",
       "            min_weight_fraction_leaf=0.0, n_estimators=10, n_jobs=1,\n",
       "            oob_score=False, random_state=None, verbose=0,\n",
       "            warm_start=False)"
      ]
     },
     "execution_count": 34,
     "metadata": {},
     "output_type": "execute_result"
    }
   ],
   "source": [
    "# grid_params = {\n",
    "#     'n_estimators': [10, 50],\n",
    "#     'max_depth': [3, 4, 6]\n",
    "# }\n",
    "\n",
    "rf_model = RandomForestClassifier() #GridSearchCV(RandomForestClassifier(), params, cv = 5)\n",
    "\n",
    "features = session_with_track_info.drop(['not_skipped', 'date', 'context_type','hist_user_behavior_reason_start', 'mode', 'hist_user_behavior_reason_end', 'session_id'], axis=1)\n",
    "target = log_mini_no_process.not_skipped\n",
    "\n",
    "x_train, x_test, y_train, y_test = train_test_split(features, target)\n",
    "rf_model.fit(x_train, y_train)"
   ]
  },
  {
   "cell_type": "markdown",
   "metadata": {},
   "source": [
    "#### trying with only metadata to predict skip"
   ]
  },
  {
   "cell_type": "code",
   "execution_count": 77,
   "metadata": {
    "ExecuteTime": {
     "end_time": "2018-11-22T19:37:06.777141Z",
     "start_time": "2018-11-22T19:37:06.765945Z"
    }
   },
   "outputs": [
    {
     "ename": "SyntaxError",
     "evalue": "invalid syntax (<ipython-input-77-92e143c9c664>, line 9)",
     "output_type": "error",
     "traceback": [
      "\u001b[0;36m  File \u001b[0;32m\"<ipython-input-77-92e143c9c664>\"\u001b[0;36m, line \u001b[0;32m9\u001b[0m\n\u001b[0;31m    x_resampled, y_resamples = sm.\u001b[0m\n\u001b[0m                                  ^\u001b[0m\n\u001b[0;31mSyntaxError\u001b[0m\u001b[0;31m:\u001b[0m invalid syntax\n"
     ]
    }
   ],
   "source": [
    "track_features_for_skipped = pd.read_csv('data/track_features/tf_mini.csv')\n",
    "songs_skipping = (pd.merge(skipped_data, track_features, how='left', left_on='track_id_clean', right_on='track_id')\n",
    "                  )\n",
    "songs_skipping.drop(columns=['track_id_clean','mode'], inplace=True)\n",
    "# songs_skipping['is_major'] = \n",
    "# songs_skipping.dtypes"
   ]
  },
  {
   "cell_type": "code",
   "execution_count": 82,
   "metadata": {
    "ExecuteTime": {
     "end_time": "2018-11-22T19:39:59.897056Z",
     "start_time": "2018-11-22T19:39:56.847217Z"
    }
   },
   "outputs": [],
   "source": [
    "features = songs_skipping.drop(columns=['not_skipped', 'track_id']).copy(deep=True)\n",
    "target = songs_skipping.not_skipped\n",
    "\n",
    "sm = SMOTE(random_state= 42)\n",
    "x_resampled, y_resampled = sm.fit_sample(features, target)\n",
    "\n",
    "with open('smote_data.pkl', 'wb') as file:\n",
    "    pickle.dump([features, target], file)\n",
    "    file.close()\n",
    "    "
   ]
  },
  {
   "cell_type": "code",
   "execution_count": 86,
   "metadata": {
    "ExecuteTime": {
     "end_time": "2018-11-22T19:41:09.208066Z",
     "start_time": "2018-11-22T19:41:09.199316Z"
    }
   },
   "outputs": [
    {
     "name": "stdout",
     "output_type": "stream",
     "text": [
      "I have loaded the smoted data into a pickle file\n"
     ]
    }
   ],
   "source": [
    "print('I have loaded the smoted data into a pickle file')"
   ]
  },
  {
   "cell_type": "code",
   "execution_count": 85,
   "metadata": {
    "ExecuteTime": {
     "end_time": "2018-11-22T19:41:08.319466Z",
     "start_time": "2018-11-22T19:41:01.569019Z"
    },
    "scrolled": true
   },
   "outputs": [
    {
     "name": "stdout",
     "output_type": "stream",
     "text": [
      "0.6218436372727597\n",
      "             precision    recall  f1-score   support\n",
      "\n",
      "      False       0.60      0.63      0.61     26577\n",
      "       True       0.65      0.62      0.63     29421\n",
      "\n",
      "avg / total       0.62      0.62      0.62     55998\n",
      "\n"
     ]
    }
   ],
   "source": [
    "x_train, x_test, y_train, y_test = train_test_split(x_resampled, y_resampled)\n",
    "songs_rf_model = RandomForestClassifier()\n",
    "songs_rf_model.fit(x_train, y_train)\n",
    "predictions = songs_rf_model.predict(x_test)\n",
    "print(accuracy_score(predictions, y_test))\n",
    "print(classification_report(predictions, y_test))"
   ]
  },
  {
   "cell_type": "code",
   "execution_count": 90,
   "metadata": {
    "ExecuteTime": {
     "end_time": "2018-11-22T19:42:25.036631Z",
     "start_time": "2018-11-22T19:42:25.017232Z"
    }
   },
   "outputs": [
    {
     "data": {
      "text/plain": [
       "[(0.06352524210494571, 'is_major'),\n",
       " (0.043874122041794625, 'duration'),\n",
       " (0.04367612907667012, 'release_year'),\n",
       " (0.04325392424999825, 'us_popularity_estimate'),\n",
       " (0.038155687119625005, 'acousticness'),\n",
       " (0.037834229102548855, 'acoustic_vector_4'),\n",
       " (0.037625744799465455, 'acoustic_vector_0'),\n",
       " (0.03650560843122819, 'liveness'),\n",
       " (0.036030105483354995, 'acoustic_vector_6'),\n",
       " (0.03539930746402196, 'acoustic_vector_7'),\n",
       " (0.03506002644456065, 'speechiness'),\n",
       " (0.034404804517285274, 'acoustic_vector_2'),\n",
       " (0.03394128828586399, 'tempo'),\n",
       " (0.0338035373524493, 'energy'),\n",
       " (0.033793366487884405, 'acoustic_vector_5'),\n",
       " (0.03349173322957556, 'valence'),\n",
       " (0.033408454040031926, 'acoustic_vector_1'),\n",
       " (0.03335953169254031, 'acoustic_vector_3'),\n",
       " (0.03303213242039814, 'loudness'),\n",
       " (0.032604247422328425, 'flatness'),\n",
       " (0.032173497878157195, 'mechanism'),\n",
       " (0.03096481967379695, 'organism'),\n",
       " (0.03034405075996894, 'danceability'),\n",
       " (0.02976083591920875, 'dyn_range_mean'),\n",
       " (0.029718307256883604, 'beat_strength'),\n",
       " (0.02953704474266523, 'key'),\n",
       " (0.027788459204941652, 'bounciness'),\n",
       " (0.027683503134510717, 'instrumentalness'),\n",
       " (0.009250259663295835, 'time_signature')]"
      ]
     },
     "execution_count": 90,
     "metadata": {},
     "output_type": "execute_result"
    }
   ],
   "source": [
    "sorted(zip(songs_rf_model.feature_importances_, features.columns), reverse=True)"
   ]
  },
  {
   "cell_type": "code",
   "execution_count": 47,
   "metadata": {
    "ExecuteTime": {
     "end_time": "2018-11-22T16:45:55.531811Z",
     "start_time": "2018-11-22T16:45:55.215395Z"
    }
   },
   "outputs": [
    {
     "name": "stdout",
     "output_type": "stream",
     "text": [
      "             precision    recall  f1-score   support\n",
      "\n",
      "      False       0.85      0.71      0.77     33717\n",
      "       True       0.29      0.50      0.37      8253\n",
      "\n",
      "avg / total       0.74      0.67      0.69     41970\n",
      "\n",
      "[[23854  9863]\n",
      " [ 4152  4101]]\n"
     ]
    }
   ],
   "source": [
    "# rf_model.score\n",
    "predictions = rf_model.predict(x_test)\n",
    "print(classification_report(predictions, y_test))\n",
    "print(confusion_matrix(predictions, y_test))"
   ]
  },
  {
   "cell_type": "code",
   "execution_count": 35,
   "metadata": {
    "ExecuteTime": {
     "end_time": "2018-11-22T16:39:32.086062Z",
     "start_time": "2018-11-22T16:39:32.064935Z"
    },
    "scrolled": true
   },
   "outputs": [
    {
     "data": {
      "text/plain": [
       "[(0.1286335999294329, 'session_position'),\n",
       " (0.12247848374901733, 'hour_of_day'),\n",
       " (0.06080464040091984, 'session_length'),\n",
       " (0.023192751066458295, 'hist_user_behavior_is_shuffle'),\n",
       " (0.021818376721243912, 'liveness'),\n",
       " (0.021735405025212227, 'acoustic_vector_1'),\n",
       " (0.021466394045487083, 'tempo'),\n",
       " (0.021428446374962287, 'duration'),\n",
       " (0.021393897993567636, 'us_popularity_estimate'),\n",
       " (0.021299659695001017, 'loudness'),\n",
       " (0.02076115350577422, 'acoustic_vector_7'),\n",
       " (0.020733811563630022, 'speechiness'),\n",
       " (0.02053587378343676, 'valence'),\n",
       " (0.020503318444021187, 'acousticness'),\n",
       " (0.020468576436427376, 'flatness'),\n",
       " (0.020458797656689585, 'acoustic_vector_2'),\n",
       " (0.02040866850955746, 'acoustic_vector_6'),\n",
       " (0.020326570053161318, 'danceability'),\n",
       " (0.020260482067853705, 'organism'),\n",
       " (0.020080865392894026, 'energy'),\n",
       " (0.02008042904561285, 'premium'),\n",
       " (0.019949233294203356, 'mechanism'),\n",
       " (0.019815565083877794, 'acoustic_vector_4'),\n",
       " (0.019778580130544246, 'acoustic_vector_5'),\n",
       " (0.019618818348174506, 'acoustic_vector_3'),\n",
       " (0.019604503544708468, 'skip_1'),\n",
       " (0.019527283013106245, 'acoustic_vector_0'),\n",
       " (0.019347862052567888, 'beat_strength'),\n",
       " (0.019209419638668686, 'skip_3'),\n",
       " (0.019149629199923003, 'dyn_range_mean'),\n",
       " (0.018752927926378653, 'bounciness'),\n",
       " (0.018627605091091123, 'skip_2'),\n",
       " (0.013857917909043362, 'no_pause_before_play'),\n",
       " (0.013487046290532042, 'instrumentalness'),\n",
       " (0.012639965283729057, 'key'),\n",
       " (0.011991314608559556, 'release_year'),\n",
       " (0.011564159796435585, 'long_pause_before_play'),\n",
       " (0.010165836434035668, 'short_pause_before_play'),\n",
       " (0.007123507889230517, 'context_switch'),\n",
       " (0.006669325899474751, 'hist_user_behavior_n_seekback'),\n",
       " (0.005432231834496542, 'hist_user_behavior_n_seekfwd'),\n",
       " (0.0030224738508418643, 'is_major'),\n",
       " (0.0017945914200159993, 'time_signature')]"
      ]
     },
     "execution_count": 35,
     "metadata": {},
     "output_type": "execute_result"
    }
   ],
   "source": [
    "sorted(zip(rf_model.feature_importances_, features.columns), reverse=True)"
   ]
  },
  {
   "cell_type": "code",
   "execution_count": 57,
   "metadata": {
    "ExecuteTime": {
     "end_time": "2018-11-22T17:02:02.716279Z",
     "start_time": "2018-11-22T17:02:02.544662Z"
    }
   },
   "outputs": [
    {
     "data": {
      "image/png": "[encoded data removed]",
      "text/plain": [
       "<Figure size 576x396 with 1 Axes>"
      ]
     },
     "metadata": {},
     "output_type": "display_data"
    }
   ],
   "source": [
    "# do you know what this is plotting\n",
    "plt.plot(log_mini_no_process.groupby('session_position')['not_skipped'].sum())\n",
    "plt.xticks(range(1,21));"
   ]
  },
  {
   "cell_type": "code",
   "execution_count": null,
   "metadata": {
    "collapsed": true
   },
   "outputs": [],
   "source": []
  },
  {
   "cell_type": "code",
   "execution_count": null,
   "metadata": {
    "collapsed": true
   },
   "outputs": [],
   "source": []
  },
  {
   "cell_type": "code",
   "execution_count": null,
   "metadata": {
    "collapsed": true
   },
   "outputs": [],
   "source": []
  },
  {
   "cell_type": "code",
   "execution_count": null,
   "metadata": {
    "collapsed": true
   },
   "outputs": [],
   "source": []
  },
  {
   "cell_type": "code",
   "execution_count": null,
   "metadata": {
    "collapsed": true
   },
   "outputs": [],
   "source": []
  },
  {
   "cell_type": "markdown",
   "metadata": {},
   "source": [
    "### Modelling (Jenn Wong original approach)\n",
    "\n",
    "Recall, we are trying to predict 'not_skipped' aka played the entire song"
   ]
  },
  {
   "cell_type": "code",
   "execution_count": 44,
   "metadata": {
    "ExecuteTime": {
     "end_time": "2018-11-22T16:44:58.058894Z",
     "start_time": "2018-11-22T16:44:58.045119Z"
    },
    "collapsed": true
   },
   "outputs": [],
   "source": [
    "from sklearn.preprocessing import StandardScaler\n",
    "from sklearn.model_selection import train_test_split\n",
    "from imblearn.over_sampling import SMOTE, ADASYN\n",
    "\n",
    "from sklearn.metrics import accuracy_score, confusion_matrix, precision_score, classification_report\n",
    "from sklearn.linear_model import LogisticRegression\n",
    "\n",
    "# Feature ranking with recursive feature elimination.\n",
    "from sklearn.feature_selection import RFE\n",
    "\n",
    "from sklearn.dummy import DummyClassifier\n",
    "from sklearn.tree import DecisionTreeClassifier"
   ]
  },
  {
   "cell_type": "code",
   "execution_count": 41,
   "metadata": {
    "ExecuteTime": {
     "end_time": "2018-11-22T16:42:01.194842Z",
     "start_time": "2018-11-22T16:41:59.545911Z"
    }
   },
   "outputs": [
    {
     "data": {
      "text/html": [
       "<div>\n",
       "<style scoped>\n",
       "    .dataframe tbody tr th:only-of-type {\n",
       "        vertical-align: middle;\n",
       "    }\n",
       "\n",
       "    .dataframe tbody tr th {\n",
       "        vertical-align: top;\n",
       "    }\n",
       "\n",
       "    .dataframe thead th {\n",
       "        text-align: right;\n",
       "    }\n",
       "</style>\n",
       "<table border=\"1\" class=\"dataframe\">\n",
       "  <thead>\n",
       "    <tr style=\"text-align: right;\">\n",
       "      <th></th>\n",
       "      <th>session_length</th>\n",
       "      <th>skip_1</th>\n",
       "      <th>skip_2</th>\n",
       "      <th>skip_3</th>\n",
       "      <th>context_switch</th>\n",
       "      <th>no_pause_before_play</th>\n",
       "      <th>hist_user_behavior_n_seekfwd</th>\n",
       "      <th>hist_user_behavior_n_seekback</th>\n",
       "      <th>hist_user_behavior_is_shuffle</th>\n",
       "      <th>premium</th>\n",
       "      <th>...</th>\n",
       "      <th>end_hist_b_endplay</th>\n",
       "      <th>end_hist_b_fwdbtn</th>\n",
       "      <th>end_hist_b_logout</th>\n",
       "      <th>end_hist_b_remote</th>\n",
       "      <th>end_hist_b_trackdone</th>\n",
       "      <th>context_charts</th>\n",
       "      <th>context_editorial_playlist</th>\n",
       "      <th>context_personalized_playlist</th>\n",
       "      <th>context_radio</th>\n",
       "      <th>context_user_collection</th>\n",
       "    </tr>\n",
       "  </thead>\n",
       "  <tbody>\n",
       "    <tr>\n",
       "      <th>0</th>\n",
       "      <td>0.686197</td>\n",
       "      <td>-0.853592</td>\n",
       "      <td>-1.034969</td>\n",
       "      <td>-1.357931</td>\n",
       "      <td>-0.206516</td>\n",
       "      <td>-1.817405</td>\n",
       "      <td>-0.105933</td>\n",
       "      <td>-0.076265</td>\n",
       "      <td>1.496346</td>\n",
       "      <td>0.483664</td>\n",
       "      <td>...</td>\n",
       "      <td>-0.311201</td>\n",
       "      <td>-0.970057</td>\n",
       "      <td>-0.058008</td>\n",
       "      <td>-0.039912</td>\n",
       "      <td>1.38184</td>\n",
       "      <td>-0.121469</td>\n",
       "      <td>1.925461</td>\n",
       "      <td>-0.134339</td>\n",
       "      <td>-0.379219</td>\n",
       "      <td>-0.819316</td>\n",
       "    </tr>\n",
       "    <tr>\n",
       "      <th>1</th>\n",
       "      <td>0.686197</td>\n",
       "      <td>-0.853592</td>\n",
       "      <td>-1.034969</td>\n",
       "      <td>-1.357931</td>\n",
       "      <td>-0.206516</td>\n",
       "      <td>0.550235</td>\n",
       "      <td>-0.105933</td>\n",
       "      <td>-0.076265</td>\n",
       "      <td>1.496346</td>\n",
       "      <td>0.483664</td>\n",
       "      <td>...</td>\n",
       "      <td>-0.311201</td>\n",
       "      <td>-0.970057</td>\n",
       "      <td>-0.058008</td>\n",
       "      <td>-0.039912</td>\n",
       "      <td>1.38184</td>\n",
       "      <td>-0.121469</td>\n",
       "      <td>1.925461</td>\n",
       "      <td>-0.134339</td>\n",
       "      <td>-0.379219</td>\n",
       "      <td>-0.819316</td>\n",
       "    </tr>\n",
       "    <tr>\n",
       "      <th>2</th>\n",
       "      <td>0.686197</td>\n",
       "      <td>-0.853592</td>\n",
       "      <td>-1.034969</td>\n",
       "      <td>-1.357931</td>\n",
       "      <td>-0.206516</td>\n",
       "      <td>0.550235</td>\n",
       "      <td>-0.105933</td>\n",
       "      <td>-0.076265</td>\n",
       "      <td>1.496346</td>\n",
       "      <td>0.483664</td>\n",
       "      <td>...</td>\n",
       "      <td>-0.311201</td>\n",
       "      <td>-0.970057</td>\n",
       "      <td>-0.058008</td>\n",
       "      <td>-0.039912</td>\n",
       "      <td>1.38184</td>\n",
       "      <td>-0.121469</td>\n",
       "      <td>1.925461</td>\n",
       "      <td>-0.134339</td>\n",
       "      <td>-0.379219</td>\n",
       "      <td>-0.819316</td>\n",
       "    </tr>\n",
       "    <tr>\n",
       "      <th>3</th>\n",
       "      <td>0.686197</td>\n",
       "      <td>-0.853592</td>\n",
       "      <td>-1.034969</td>\n",
       "      <td>-1.357931</td>\n",
       "      <td>-0.206516</td>\n",
       "      <td>0.550235</td>\n",
       "      <td>-0.105933</td>\n",
       "      <td>-0.076265</td>\n",
       "      <td>1.496346</td>\n",
       "      <td>0.483664</td>\n",
       "      <td>...</td>\n",
       "      <td>-0.311201</td>\n",
       "      <td>-0.970057</td>\n",
       "      <td>-0.058008</td>\n",
       "      <td>-0.039912</td>\n",
       "      <td>1.38184</td>\n",
       "      <td>-0.121469</td>\n",
       "      <td>1.925461</td>\n",
       "      <td>-0.134339</td>\n",
       "      <td>-0.379219</td>\n",
       "      <td>-0.819316</td>\n",
       "    </tr>\n",
       "    <tr>\n",
       "      <th>4</th>\n",
       "      <td>0.686197</td>\n",
       "      <td>-0.853592</td>\n",
       "      <td>-1.034969</td>\n",
       "      <td>-1.357931</td>\n",
       "      <td>-0.206516</td>\n",
       "      <td>0.550235</td>\n",
       "      <td>-0.105933</td>\n",
       "      <td>-0.076265</td>\n",
       "      <td>1.496346</td>\n",
       "      <td>0.483664</td>\n",
       "      <td>...</td>\n",
       "      <td>-0.311201</td>\n",
       "      <td>-0.970057</td>\n",
       "      <td>-0.058008</td>\n",
       "      <td>-0.039912</td>\n",
       "      <td>1.38184</td>\n",
       "      <td>-0.121469</td>\n",
       "      <td>1.925461</td>\n",
       "      <td>-0.134339</td>\n",
       "      <td>-0.379219</td>\n",
       "      <td>-0.819316</td>\n",
       "    </tr>\n",
       "  </tbody>\n",
       "</table>\n",
       "<p>5 rows × 77 columns</p>\n",
       "</div>"
      ],
      "text/plain": [
       "   session_length    skip_1    skip_2    skip_3  context_switch  \\\n",
       "0        0.686197 -0.853592 -1.034969 -1.357931       -0.206516   \n",
       "1        0.686197 -0.853592 -1.034969 -1.357931       -0.206516   \n",
       "2        0.686197 -0.853592 -1.034969 -1.357931       -0.206516   \n",
       "3        0.686197 -0.853592 -1.034969 -1.357931       -0.206516   \n",
       "4        0.686197 -0.853592 -1.034969 -1.357931       -0.206516   \n",
       "\n",
       "   no_pause_before_play  hist_user_behavior_n_seekfwd  \\\n",
       "0             -1.817405                     -0.105933   \n",
       "1              0.550235                     -0.105933   \n",
       "2              0.550235                     -0.105933   \n",
       "3              0.550235                     -0.105933   \n",
       "4              0.550235                     -0.105933   \n",
       "\n",
       "   hist_user_behavior_n_seekback  hist_user_behavior_is_shuffle   premium  \\\n",
       "0                      -0.076265                       1.496346  0.483664   \n",
       "1                      -0.076265                       1.496346  0.483664   \n",
       "2                      -0.076265                       1.496346  0.483664   \n",
       "3                      -0.076265                       1.496346  0.483664   \n",
       "4                      -0.076265                       1.496346  0.483664   \n",
       "\n",
       "            ...             end_hist_b_endplay  end_hist_b_fwdbtn  \\\n",
       "0           ...                      -0.311201          -0.970057   \n",
       "1           ...                      -0.311201          -0.970057   \n",
       "2           ...                      -0.311201          -0.970057   \n",
       "3           ...                      -0.311201          -0.970057   \n",
       "4           ...                      -0.311201          -0.970057   \n",
       "\n",
       "   end_hist_b_logout  end_hist_b_remote  end_hist_b_trackdone  context_charts  \\\n",
       "0          -0.058008          -0.039912               1.38184       -0.121469   \n",
       "1          -0.058008          -0.039912               1.38184       -0.121469   \n",
       "2          -0.058008          -0.039912               1.38184       -0.121469   \n",
       "3          -0.058008          -0.039912               1.38184       -0.121469   \n",
       "4          -0.058008          -0.039912               1.38184       -0.121469   \n",
       "\n",
       "   context_editorial_playlist  context_personalized_playlist  context_radio  \\\n",
       "0                    1.925461                      -0.134339      -0.379219   \n",
       "1                    1.925461                      -0.134339      -0.379219   \n",
       "2                    1.925461                      -0.134339      -0.379219   \n",
       "3                    1.925461                      -0.134339      -0.379219   \n",
       "4                    1.925461                      -0.134339      -0.379219   \n",
       "\n",
       "   context_user_collection  \n",
       "0                -0.819316  \n",
       "1                -0.819316  \n",
       "2                -0.819316  \n",
       "3                -0.819316  \n",
       "4                -0.819316  \n",
       "\n",
       "[5 rows x 77 columns]"
      ]
     },
     "execution_count": 41,
     "metadata": {},
     "output_type": "execute_result"
    }
   ],
   "source": [
    "x_features = log_mini.drop(['not_skipped'], axis = 1)\n",
    "y_target = log_mini.not_skipped\n",
    "\n",
    "# frmo experience running before scaling, scaling doesn't change the metrics but doing it for good measure\n",
    "scaler = StandardScaler()\n",
    "x_transformed = scaler.fit_transform(x_features)\n",
    "x_features = pd.DataFrame(x_transformed, columns = x_features.columns)\n",
    "x_features.head()"
   ]
  },
  {
   "cell_type": "code",
   "execution_count": 21,
   "metadata": {
    "ExecuteTime": {
     "end_time": "2018-11-22T16:22:47.114276Z",
     "start_time": "2018-11-22T16:22:47.012647Z"
    },
    "collapsed": true
   },
   "outputs": [],
   "source": [
    "# sm = SMOTE(random_state=42) #this takes a long time so i would suggest saving to pkl and loading the pkl\n",
    "# x_res, y_res = sm.fit_sample(x_features, y_target)\n",
    "\n",
    "x_train, x_test, y_train, y_test = train_test_split(x_features, y_target)"
   ]
  },
  {
   "cell_type": "code",
   "execution_count": 22,
   "metadata": {
    "ExecuteTime": {
     "end_time": "2018-11-22T16:22:47.127475Z",
     "start_time": "2018-11-22T16:22:47.117982Z"
    },
    "collapsed": true
   },
   "outputs": [],
   "source": [
    "# x_train"
   ]
  },
  {
   "cell_type": "code",
   "execution_count": 23,
   "metadata": {
    "ExecuteTime": {
     "end_time": "2018-11-22T16:22:47.192480Z",
     "start_time": "2018-11-22T16:22:47.133569Z"
    },
    "scrolled": true
   },
   "outputs": [
    {
     "name": "stdout",
     "output_type": "stream",
     "text": [
      "0.5591851322373124\n"
     ]
    },
    {
     "data": {
      "text/plain": [
       "array([[18721,  9200],\n",
       "       [ 9408,  4641]])"
      ]
     },
     "execution_count": 23,
     "metadata": {},
     "output_type": "execute_result"
    }
   ],
   "source": [
    "dummy_classifier = DummyClassifier()\n",
    "dummy_classifier.fit(x_train, y_train)\n",
    "print(accuracy_score(dummy_classifier.predict(x_test), y_test))\n",
    "confusion_matrix(dummy_classifier.predict(x_test), y_test)\n",
    "# scaler = StandardScaler()\n",
    "# x_features = scaler.fit_transform(x_features)"
   ]
  },
  {
   "cell_type": "markdown",
   "metadata": {},
   "source": [
    "This is because it's an imbalanced dataset lmao"
   ]
  },
  {
   "cell_type": "code",
   "execution_count": 24,
   "metadata": {
    "ExecuteTime": {
     "end_time": "2018-11-22T16:22:56.469863Z",
     "start_time": "2018-11-22T16:22:47.195229Z"
    }
   },
   "outputs": [
    {
     "data": {
      "text/plain": [
       "0.9907076483202287"
      ]
     },
     "execution_count": 24,
     "metadata": {},
     "output_type": "execute_result"
    }
   ],
   "source": [
    "lr_model = LogisticRegression()\n",
    "# selector = RFE(lr_model, 10) # this takes hella long to run nevermind\n",
    "lr_model.fit(x_train, y_train)\n",
    "accuracy_score(lr_model.predict(x_test), y_test)"
   ]
  },
  {
   "cell_type": "code",
   "execution_count": 25,
   "metadata": {
    "ExecuteTime": {
     "end_time": "2018-11-22T16:22:56.490212Z",
     "start_time": "2018-11-22T16:22:56.472632Z"
    }
   },
   "outputs": [
    {
     "data": {
      "text/plain": [
       "Counter({False: 27881, True: 14089})"
      ]
     },
     "execution_count": 25,
     "metadata": {},
     "output_type": "execute_result"
    }
   ],
   "source": [
    "Counter(lr_model.predict(x_test))"
   ]
  },
  {
   "cell_type": "code",
   "execution_count": 26,
   "metadata": {
    "ExecuteTime": {
     "end_time": "2018-11-22T16:22:56.537466Z",
     "start_time": "2018-11-22T16:22:56.493812Z"
    },
    "scrolled": true
   },
   "outputs": [
    {
     "data": {
      "text/html": [
       "<div>\n",
       "<style scoped>\n",
       "    .dataframe tbody tr th:only-of-type {\n",
       "        vertical-align: middle;\n",
       "    }\n",
       "\n",
       "    .dataframe tbody tr th {\n",
       "        vertical-align: top;\n",
       "    }\n",
       "\n",
       "    .dataframe thead th {\n",
       "        text-align: right;\n",
       "    }\n",
       "</style>\n",
       "<table border=\"1\" class=\"dataframe\">\n",
       "  <thead>\n",
       "    <tr style=\"text-align: right;\">\n",
       "      <th></th>\n",
       "      <th>0</th>\n",
       "      <th>1</th>\n",
       "      <th>coef_abs</th>\n",
       "    </tr>\n",
       "  </thead>\n",
       "  <tbody>\n",
       "    <tr>\n",
       "      <th>3</th>\n",
       "      <td>-6.604486</td>\n",
       "      <td>skip_3</td>\n",
       "      <td>6.604486</td>\n",
       "    </tr>\n",
       "    <tr>\n",
       "      <th>71</th>\n",
       "      <td>3.251193</td>\n",
       "      <td>end_hist_b_trackdone</td>\n",
       "      <td>3.251193</td>\n",
       "    </tr>\n",
       "    <tr>\n",
       "      <th>1</th>\n",
       "      <td>2.972960</td>\n",
       "      <td>skip_1</td>\n",
       "      <td>2.972960</td>\n",
       "    </tr>\n",
       "    <tr>\n",
       "      <th>2</th>\n",
       "      <td>-2.436513</td>\n",
       "      <td>skip_2</td>\n",
       "      <td>2.436513</td>\n",
       "    </tr>\n",
       "    <tr>\n",
       "      <th>64</th>\n",
       "      <td>1.196597</td>\n",
       "      <td>start_hist_b_trackdone</td>\n",
       "      <td>1.196597</td>\n",
       "    </tr>\n",
       "    <tr>\n",
       "      <th>61</th>\n",
       "      <td>1.079170</td>\n",
       "      <td>start_hist_b_fwdbtn</td>\n",
       "      <td>1.079170</td>\n",
       "    </tr>\n",
       "    <tr>\n",
       "      <th>7</th>\n",
       "      <td>1.001295</td>\n",
       "      <td>hist_user_behavior_n_seekback</td>\n",
       "      <td>1.001295</td>\n",
       "    </tr>\n",
       "    <tr>\n",
       "      <th>59</th>\n",
       "      <td>0.621846</td>\n",
       "      <td>start_hist_b_clickrow</td>\n",
       "      <td>0.621846</td>\n",
       "    </tr>\n",
       "    <tr>\n",
       "      <th>58</th>\n",
       "      <td>0.620503</td>\n",
       "      <td>start_hist_b_backbtn</td>\n",
       "      <td>0.620503</td>\n",
       "    </tr>\n",
       "    <tr>\n",
       "      <th>67</th>\n",
       "      <td>0.389293</td>\n",
       "      <td>end_hist_b_endplay</td>\n",
       "      <td>0.389293</td>\n",
       "    </tr>\n",
       "    <tr>\n",
       "      <th>6</th>\n",
       "      <td>-0.273687</td>\n",
       "      <td>hist_user_behavior_n_seekfwd</td>\n",
       "      <td>0.273687</td>\n",
       "    </tr>\n",
       "    <tr>\n",
       "      <th>15</th>\n",
       "      <td>0.265233</td>\n",
       "      <td>weekday_6</td>\n",
       "      <td>0.265233</td>\n",
       "    </tr>\n",
       "    <tr>\n",
       "      <th>68</th>\n",
       "      <td>0.229471</td>\n",
       "      <td>end_hist_b_fwdbtn</td>\n",
       "      <td>0.229471</td>\n",
       "    </tr>\n",
       "    <tr>\n",
       "      <th>73</th>\n",
       "      <td>-0.225879</td>\n",
       "      <td>context_editorial_playlist</td>\n",
       "      <td>0.225879</td>\n",
       "    </tr>\n",
       "    <tr>\n",
       "      <th>76</th>\n",
       "      <td>-0.216516</td>\n",
       "      <td>context_user_collection</td>\n",
       "      <td>0.216516</td>\n",
       "    </tr>\n",
       "    <tr>\n",
       "      <th>75</th>\n",
       "      <td>-0.179014</td>\n",
       "      <td>context_radio</td>\n",
       "      <td>0.179014</td>\n",
       "    </tr>\n",
       "    <tr>\n",
       "      <th>14</th>\n",
       "      <td>0.120580</td>\n",
       "      <td>weekday_5</td>\n",
       "      <td>0.120580</td>\n",
       "    </tr>\n",
       "    <tr>\n",
       "      <th>39</th>\n",
       "      <td>-0.113879</td>\n",
       "      <td>sess_pos_2</td>\n",
       "      <td>0.113879</td>\n",
       "    </tr>\n",
       "    <tr>\n",
       "      <th>9</th>\n",
       "      <td>-0.109731</td>\n",
       "      <td>premium</td>\n",
       "      <td>0.109731</td>\n",
       "    </tr>\n",
       "    <tr>\n",
       "      <th>5</th>\n",
       "      <td>0.108406</td>\n",
       "      <td>no_pause_before_play</td>\n",
       "      <td>0.108406</td>\n",
       "    </tr>\n",
       "    <tr>\n",
       "      <th>48</th>\n",
       "      <td>-0.108315</td>\n",
       "      <td>sess_pos_11</td>\n",
       "      <td>0.108315</td>\n",
       "    </tr>\n",
       "    <tr>\n",
       "      <th>53</th>\n",
       "      <td>-0.106400</td>\n",
       "      <td>sess_pos_16</td>\n",
       "      <td>0.106400</td>\n",
       "    </tr>\n",
       "    <tr>\n",
       "      <th>70</th>\n",
       "      <td>-0.102449</td>\n",
       "      <td>end_hist_b_remote</td>\n",
       "      <td>0.102449</td>\n",
       "    </tr>\n",
       "    <tr>\n",
       "      <th>43</th>\n",
       "      <td>-0.101989</td>\n",
       "      <td>sess_pos_6</td>\n",
       "      <td>0.101989</td>\n",
       "    </tr>\n",
       "    <tr>\n",
       "      <th>38</th>\n",
       "      <td>0.097630</td>\n",
       "      <td>hour_23</td>\n",
       "      <td>0.097630</td>\n",
       "    </tr>\n",
       "    <tr>\n",
       "      <th>41</th>\n",
       "      <td>-0.095564</td>\n",
       "      <td>sess_pos_4</td>\n",
       "      <td>0.095564</td>\n",
       "    </tr>\n",
       "    <tr>\n",
       "      <th>45</th>\n",
       "      <td>-0.087684</td>\n",
       "      <td>sess_pos_8</td>\n",
       "      <td>0.087684</td>\n",
       "    </tr>\n",
       "    <tr>\n",
       "      <th>72</th>\n",
       "      <td>0.086873</td>\n",
       "      <td>context_charts</td>\n",
       "      <td>0.086873</td>\n",
       "    </tr>\n",
       "    <tr>\n",
       "      <th>35</th>\n",
       "      <td>0.082369</td>\n",
       "      <td>hour_20</td>\n",
       "      <td>0.082369</td>\n",
       "    </tr>\n",
       "    <tr>\n",
       "      <th>47</th>\n",
       "      <td>-0.080062</td>\n",
       "      <td>sess_pos_10</td>\n",
       "      <td>0.080062</td>\n",
       "    </tr>\n",
       "    <tr>\n",
       "      <th>...</th>\n",
       "      <td>...</td>\n",
       "      <td>...</td>\n",
       "      <td>...</td>\n",
       "    </tr>\n",
       "    <tr>\n",
       "      <th>0</th>\n",
       "      <td>-0.038061</td>\n",
       "      <td>session_length</td>\n",
       "      <td>0.038061</td>\n",
       "    </tr>\n",
       "    <tr>\n",
       "      <th>44</th>\n",
       "      <td>-0.037466</td>\n",
       "      <td>sess_pos_7</td>\n",
       "      <td>0.037466</td>\n",
       "    </tr>\n",
       "    <tr>\n",
       "      <th>24</th>\n",
       "      <td>-0.035424</td>\n",
       "      <td>hour_9</td>\n",
       "      <td>0.035424</td>\n",
       "    </tr>\n",
       "    <tr>\n",
       "      <th>33</th>\n",
       "      <td>0.034039</td>\n",
       "      <td>hour_18</td>\n",
       "      <td>0.034039</td>\n",
       "    </tr>\n",
       "    <tr>\n",
       "      <th>42</th>\n",
       "      <td>-0.030717</td>\n",
       "      <td>sess_pos_5</td>\n",
       "      <td>0.030717</td>\n",
       "    </tr>\n",
       "    <tr>\n",
       "      <th>4</th>\n",
       "      <td>0.029751</td>\n",
       "      <td>context_switch</td>\n",
       "      <td>0.029751</td>\n",
       "    </tr>\n",
       "    <tr>\n",
       "      <th>60</th>\n",
       "      <td>-0.029371</td>\n",
       "      <td>start_hist_b_endplay</td>\n",
       "      <td>0.029371</td>\n",
       "    </tr>\n",
       "    <tr>\n",
       "      <th>49</th>\n",
       "      <td>-0.029355</td>\n",
       "      <td>sess_pos_12</td>\n",
       "      <td>0.029355</td>\n",
       "    </tr>\n",
       "    <tr>\n",
       "      <th>28</th>\n",
       "      <td>0.028671</td>\n",
       "      <td>hour_13</td>\n",
       "      <td>0.028671</td>\n",
       "    </tr>\n",
       "    <tr>\n",
       "      <th>50</th>\n",
       "      <td>-0.027437</td>\n",
       "      <td>sess_pos_13</td>\n",
       "      <td>0.027437</td>\n",
       "    </tr>\n",
       "    <tr>\n",
       "      <th>69</th>\n",
       "      <td>0.024949</td>\n",
       "      <td>end_hist_b_logout</td>\n",
       "      <td>0.024949</td>\n",
       "    </tr>\n",
       "    <tr>\n",
       "      <th>17</th>\n",
       "      <td>0.024137</td>\n",
       "      <td>hour_2</td>\n",
       "      <td>0.024137</td>\n",
       "    </tr>\n",
       "    <tr>\n",
       "      <th>55</th>\n",
       "      <td>-0.021758</td>\n",
       "      <td>sess_pos_18</td>\n",
       "      <td>0.021758</td>\n",
       "    </tr>\n",
       "    <tr>\n",
       "      <th>52</th>\n",
       "      <td>-0.020835</td>\n",
       "      <td>sess_pos_15</td>\n",
       "      <td>0.020835</td>\n",
       "    </tr>\n",
       "    <tr>\n",
       "      <th>22</th>\n",
       "      <td>0.019562</td>\n",
       "      <td>hour_7</td>\n",
       "      <td>0.019562</td>\n",
       "    </tr>\n",
       "    <tr>\n",
       "      <th>25</th>\n",
       "      <td>0.017749</td>\n",
       "      <td>hour_10</td>\n",
       "      <td>0.017749</td>\n",
       "    </tr>\n",
       "    <tr>\n",
       "      <th>51</th>\n",
       "      <td>-0.017650</td>\n",
       "      <td>sess_pos_14</td>\n",
       "      <td>0.017650</td>\n",
       "    </tr>\n",
       "    <tr>\n",
       "      <th>63</th>\n",
       "      <td>-0.016491</td>\n",
       "      <td>start_hist_b_remote</td>\n",
       "      <td>0.016491</td>\n",
       "    </tr>\n",
       "    <tr>\n",
       "      <th>46</th>\n",
       "      <td>0.016211</td>\n",
       "      <td>sess_pos_9</td>\n",
       "      <td>0.016211</td>\n",
       "    </tr>\n",
       "    <tr>\n",
       "      <th>21</th>\n",
       "      <td>-0.013556</td>\n",
       "      <td>hour_6</td>\n",
       "      <td>0.013556</td>\n",
       "    </tr>\n",
       "    <tr>\n",
       "      <th>30</th>\n",
       "      <td>-0.009095</td>\n",
       "      <td>hour_15</td>\n",
       "      <td>0.009095</td>\n",
       "    </tr>\n",
       "    <tr>\n",
       "      <th>56</th>\n",
       "      <td>-0.006736</td>\n",
       "      <td>sess_pos_19</td>\n",
       "      <td>0.006736</td>\n",
       "    </tr>\n",
       "    <tr>\n",
       "      <th>13</th>\n",
       "      <td>-0.006667</td>\n",
       "      <td>weekday_4</td>\n",
       "      <td>0.006667</td>\n",
       "    </tr>\n",
       "    <tr>\n",
       "      <th>12</th>\n",
       "      <td>-0.005835</td>\n",
       "      <td>weekday_3</td>\n",
       "      <td>0.005835</td>\n",
       "    </tr>\n",
       "    <tr>\n",
       "      <th>20</th>\n",
       "      <td>-0.005720</td>\n",
       "      <td>hour_5</td>\n",
       "      <td>0.005720</td>\n",
       "    </tr>\n",
       "    <tr>\n",
       "      <th>34</th>\n",
       "      <td>0.005563</td>\n",
       "      <td>hour_19</td>\n",
       "      <td>0.005563</td>\n",
       "    </tr>\n",
       "    <tr>\n",
       "      <th>29</th>\n",
       "      <td>0.005196</td>\n",
       "      <td>hour_14</td>\n",
       "      <td>0.005196</td>\n",
       "    </tr>\n",
       "    <tr>\n",
       "      <th>19</th>\n",
       "      <td>0.003677</td>\n",
       "      <td>hour_4</td>\n",
       "      <td>0.003677</td>\n",
       "    </tr>\n",
       "    <tr>\n",
       "      <th>26</th>\n",
       "      <td>0.001900</td>\n",
       "      <td>hour_11</td>\n",
       "      <td>0.001900</td>\n",
       "    </tr>\n",
       "    <tr>\n",
       "      <th>8</th>\n",
       "      <td>-0.001696</td>\n",
       "      <td>hist_user_behavior_is_shuffle</td>\n",
       "      <td>0.001696</td>\n",
       "    </tr>\n",
       "  </tbody>\n",
       "</table>\n",
       "<p>77 rows × 3 columns</p>\n",
       "</div>"
      ],
      "text/plain": [
       "           0                              1  coef_abs\n",
       "3  -6.604486                         skip_3  6.604486\n",
       "71  3.251193           end_hist_b_trackdone  3.251193\n",
       "1   2.972960                         skip_1  2.972960\n",
       "2  -2.436513                         skip_2  2.436513\n",
       "64  1.196597         start_hist_b_trackdone  1.196597\n",
       "61  1.079170            start_hist_b_fwdbtn  1.079170\n",
       "7   1.001295  hist_user_behavior_n_seekback  1.001295\n",
       "59  0.621846          start_hist_b_clickrow  0.621846\n",
       "58  0.620503           start_hist_b_backbtn  0.620503\n",
       "67  0.389293             end_hist_b_endplay  0.389293\n",
       "6  -0.273687   hist_user_behavior_n_seekfwd  0.273687\n",
       "15  0.265233                      weekday_6  0.265233\n",
       "68  0.229471              end_hist_b_fwdbtn  0.229471\n",
       "73 -0.225879     context_editorial_playlist  0.225879\n",
       "76 -0.216516        context_user_collection  0.216516\n",
       "75 -0.179014                  context_radio  0.179014\n",
       "14  0.120580                      weekday_5  0.120580\n",
       "39 -0.113879                     sess_pos_2  0.113879\n",
       "9  -0.109731                        premium  0.109731\n",
       "5   0.108406           no_pause_before_play  0.108406\n",
       "48 -0.108315                    sess_pos_11  0.108315\n",
       "53 -0.106400                    sess_pos_16  0.106400\n",
       "70 -0.102449              end_hist_b_remote  0.102449\n",
       "43 -0.101989                     sess_pos_6  0.101989\n",
       "38  0.097630                        hour_23  0.097630\n",
       "41 -0.095564                     sess_pos_4  0.095564\n",
       "45 -0.087684                     sess_pos_8  0.087684\n",
       "72  0.086873                 context_charts  0.086873\n",
       "35  0.082369                        hour_20  0.082369\n",
       "47 -0.080062                    sess_pos_10  0.080062\n",
       "..       ...                            ...       ...\n",
       "0  -0.038061                 session_length  0.038061\n",
       "44 -0.037466                     sess_pos_7  0.037466\n",
       "24 -0.035424                         hour_9  0.035424\n",
       "33  0.034039                        hour_18  0.034039\n",
       "42 -0.030717                     sess_pos_5  0.030717\n",
       "4   0.029751                 context_switch  0.029751\n",
       "60 -0.029371           start_hist_b_endplay  0.029371\n",
       "49 -0.029355                    sess_pos_12  0.029355\n",
       "28  0.028671                        hour_13  0.028671\n",
       "50 -0.027437                    sess_pos_13  0.027437\n",
       "69  0.024949              end_hist_b_logout  0.024949\n",
       "17  0.024137                         hour_2  0.024137\n",
       "55 -0.021758                    sess_pos_18  0.021758\n",
       "52 -0.020835                    sess_pos_15  0.020835\n",
       "22  0.019562                         hour_7  0.019562\n",
       "25  0.017749                        hour_10  0.017749\n",
       "51 -0.017650                    sess_pos_14  0.017650\n",
       "63 -0.016491            start_hist_b_remote  0.016491\n",
       "46  0.016211                     sess_pos_9  0.016211\n",
       "21 -0.013556                         hour_6  0.013556\n",
       "30 -0.009095                        hour_15  0.009095\n",
       "56 -0.006736                    sess_pos_19  0.006736\n",
       "13 -0.006667                      weekday_4  0.006667\n",
       "12 -0.005835                      weekday_3  0.005835\n",
       "20 -0.005720                         hour_5  0.005720\n",
       "34  0.005563                        hour_19  0.005563\n",
       "29  0.005196                        hour_14  0.005196\n",
       "19  0.003677                         hour_4  0.003677\n",
       "26  0.001900                        hour_11  0.001900\n",
       "8  -0.001696  hist_user_behavior_is_shuffle  0.001696\n",
       "\n",
       "[77 rows x 3 columns]"
      ]
     },
     "execution_count": 26,
     "metadata": {},
     "output_type": "execute_result"
    }
   ],
   "source": [
    "# sorted(list(zip(lr_model.coef_[0], x_features.columns)), key= lambda x: abs(x[0]), reverse = True)\n",
    "lr_coef_df = pd.DataFrame(list(zip(lr_model.coef_[0], x_features.columns)))\n",
    "lr_coef_df['coef_abs'] = abs(lr_coef_df.iloc[:,0])\n",
    "lr_coef_df.sort_values('coef_abs', ascending= False, inplace = True)\n",
    "lr_coef_df"
   ]
  },
  {
   "cell_type": "code",
   "execution_count": 27,
   "metadata": {
    "ExecuteTime": {
     "end_time": "2018-11-22T16:22:56.548468Z",
     "start_time": "2018-11-22T16:22:56.541363Z"
    },
    "collapsed": true
   },
   "outputs": [],
   "source": [
    "# I would be interested to see how well i can predict if i just had the skip_3 column"
   ]
  },
  {
   "cell_type": "code",
   "execution_count": 28,
   "metadata": {
    "ExecuteTime": {
     "end_time": "2018-11-22T16:22:56.731305Z",
     "start_time": "2018-11-22T16:22:56.551398Z"
    }
   },
   "outputs": [
    {
     "data": {
      "text/plain": [
       "0.9806766738146295"
      ]
     },
     "execution_count": 28,
     "metadata": {},
     "output_type": "execute_result"
    }
   ],
   "source": [
    "skip_3_lr = LogisticRegression()\n",
    "skip_3_lr.fit(x_train[['skip_3']], y_train)\n",
    "accuracy_score(skip_3_lr.predict(x_test[['skip_3']]), y_test)"
   ]
  },
  {
   "cell_type": "code",
   "execution_count": 29,
   "metadata": {
    "ExecuteTime": {
     "end_time": "2018-11-22T16:22:56.794932Z",
     "start_time": "2018-11-22T16:22:56.735248Z"
    }
   },
   "outputs": [
    {
     "data": {
      "text/plain": [
       "array([[27318,     0],\n",
       "       [  811, 13841]])"
      ]
     },
     "execution_count": 29,
     "metadata": {},
     "output_type": "execute_result"
    }
   ],
   "source": [
    "(confusion_matrix(skip_3_lr.predict(x_test[['skip_3']]), y_test))\n",
    "# why is that even with just this one variable, i am able to get 98% accuracy..\n",
    "\n",
    "# recall that skip_3 indicates that if false, most of the song was played"
   ]
  },
  {
   "cell_type": "markdown",
   "metadata": {},
   "source": [
    "Given an external estimator that assigns weights to features (e.g., the coefficients of a linear model), the goal of recursive feature elimination (RFE) is to select features by recursively considering smaller and smaller sets of features. First, the estimator is trained on the initial set of features and the importance of each feature is obtained either through a coef_ attribute or through a feature_importances_ attribute. Then, the least important features are pruned from current set of features. That procedure is recursively repeated on the pruned set until the desired number of features to select is eventually reached."
   ]
  },
  {
   "cell_type": "code",
   "execution_count": null,
   "metadata": {
    "collapsed": true
   },
   "outputs": [],
   "source": []
  },
  {
   "cell_type": "code",
   "execution_count": null,
   "metadata": {
    "collapsed": true
   },
   "outputs": [],
   "source": []
  },
  {
   "cell_type": "code",
   "execution_count": null,
   "metadata": {
    "collapsed": true
   },
   "outputs": [],
   "source": []
  },
  {
   "cell_type": "markdown",
   "metadata": {},
   "source": [
    "ya know, i never did explore if premium users are different from not-premium users. i would be interested to see if there is clustering possible."
   ]
  },
  {
   "cell_type": "code",
   "execution_count": null,
   "metadata": {
    "collapsed": true
   },
   "outputs": [],
   "source": []
  }
 ],
 "metadata": {
  "kernelspec": {
   "display_name": "Python 3",
   "language": "python",
   "name": "python3"
  },
  "language_info": {
   "codemirror_mode": {
    "name": "ipython",
    "version": 3
   },
   "file_extension": ".py",
   "mimetype": "text/x-python",
   "name": "python",
   "nbconvert_exporter": "python",
   "pygments_lexer": "ipython3",
   "version": "3.6.3"
  },
  "varInspector": {
   "cols": {
    "lenName": 16,
    "lenType": 16,
    "lenVar": 40
   },
   "kernels_config": {
    "python": {
     "delete_cmd_postfix": "",
     "delete_cmd_prefix": "del ",
     "library": "var_list.py",
     "varRefreshCmd": "print(var_dic_list())"
    },
    "r": {
     "delete_cmd_postfix": ") ",
     "delete_cmd_prefix": "rm(",
     "library": "var_list.r",
     "varRefreshCmd": "cat(var_dic_list()) "
    }
   },
   "types_to_exclude": [
    "module",
    "function",
    "builtin_function_or_method",
    "instance",
    "_Feature"
   ],
   "window_display": false
  }
 },
 "nbformat": 4,
 "nbformat_minor": 2
}
